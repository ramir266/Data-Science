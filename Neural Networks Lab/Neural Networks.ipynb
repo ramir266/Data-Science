{
 "cells": [
  {
   "cell_type": "markdown",
   "metadata": {},
   "source": [
    "# Neural Networks Lab"
   ]
  },
  {
   "cell_type": "code",
   "execution_count": 1,
   "metadata": {},
   "outputs": [
    {
     "name": "stderr",
     "output_type": "stream",
     "text": [
      "/anaconda3/lib/python3.6/site-packages/h5py/__init__.py:36: FutureWarning: Conversion of the second argument of issubdtype from `float` to `np.floating` is deprecated. In future, it will be treated as `np.float64 == np.dtype(float).type`.\n",
      "  from ._conv import register_converters as _register_converters\n",
      "Using TensorFlow backend.\n"
     ]
    }
   ],
   "source": [
    "import keras\n",
    "import numpy as np\n",
    "import matplotlib.pyplot as plt\n",
    "from keras.datasets import mnist\n",
    "from keras.activations import relu\n",
    "from keras.activations import softmax\n",
    "\n",
    "np.random.seed(0)"
   ]
  },
  {
   "cell_type": "markdown",
   "metadata": {},
   "source": [
    "## Loading MNIST Dataset"
   ]
  },
  {
   "cell_type": "code",
   "execution_count": 2,
   "metadata": {},
   "outputs": [
    {
     "data": {
      "image/png": "[encoded data removed]",
      "text/plain": [
       "<Figure size 1080x720 with 9 Axes>"
      ]
     },
     "metadata": {},
     "output_type": "display_data"
    }
   ],
   "source": [
    "(x_train, y_train), (x_test, y_test) = mnist.load_data()\n",
    "\n",
    "plt.figure(figsize=(15,10))\n",
    "for i in range(9):\n",
    "    plt.subplot(3,3,i+1)\n",
    "    plt.imshow(x_train[i], cmap='gray', interpolation='none')\n",
    "    plt.title(\"Class {}\".format(y_train[i]))\n",
    "plt.show()"
   ]
  },
  {
   "cell_type": "code",
   "execution_count": 19,
   "metadata": {},
   "outputs": [],
   "source": [
    "def show_img(img, label):\n",
    "    img = img.reshape(28,28)\n",
    "    \n",
    "    plt.figure(figsize=(15,5))\n",
    "    plt.subplot(1, 2, 1)\n",
    "    plt.imshow(img, cmap='gray')\n",
    "    \n",
    "    if type(label) == np.uint8:\n",
    "        zeros = np.zeros(10)\n",
    "        zeros[label] = 1\n",
    "        label = zeros\n",
    "    \n",
    "    plt.subplot(1, 2, 2)\n",
    "    plt.bar(np.arange(10), label, tick_label=np.arange(10))\n",
    "    plt.show()"
   ]
  },
  {
   "cell_type": "markdown",
   "metadata": {},
   "source": [
    "## Show Image"
   ]
  },
  {
   "cell_type": "code",
   "execution_count": 20,
   "metadata": {},
   "outputs": [],
   "source": [
    "X = x_train; Y = y_train\n",
    "zeros = np.zeros(10); zeros[Y] = 1\n",
    "Y = zeros"
   ]
  },
  {
   "cell_type": "code",
   "execution_count": 5,
   "metadata": {},
   "outputs": [
    {
     "data": {
      "text/plain": [
       "(60000, 28, 28)"
      ]
     },
     "execution_count": 5,
     "metadata": {},
     "output_type": "execute_result"
    }
   ],
   "source": [
    "X.shape"
   ]
  },
  {
   "cell_type": "code",
   "execution_count": 6,
   "metadata": {},
   "outputs": [
    {
     "data": {
      "text/plain": [
       "(10,)"
      ]
     },
     "execution_count": 6,
     "metadata": {},
     "output_type": "execute_result"
    }
   ],
   "source": [
    "Y.shape"
   ]
  },
  {
   "cell_type": "markdown",
   "metadata": {},
   "source": [
    "# Forward Pass for a single example"
   ]
  },
  {
   "cell_type": "code",
   "execution_count": 7,
   "metadata": {},
   "outputs": [],
   "source": [
    "def relu(z):\n",
    "    return z * (z > 0)\n",
    "\n",
    "def d_relu(g):\n",
    "    return g>0 \n",
    "\n",
    "def d_softmax(Y_hat, Y):\n",
    "    return Y_hat - Y\n",
    "\n",
    "def softmax(z):\n",
    "    # subracting the max adds numerical stability\n",
    "    shiftx = z - np.max(z,axis=1)[:,np.newaxis]\n",
    "    exps = np.exp(shiftx)\n",
    "    return exps / np.sum(exps,axis=1)[:,np.newaxis]"
   ]
  },
  {
   "cell_type": "markdown",
   "metadata": {},
   "source": [
    "### Initialize Weights"
   ]
  },
  {
   "cell_type": "code",
   "execution_count": 8,
   "metadata": {},
   "outputs": [],
   "source": [
    "W1 = np.random.randn(784, 10)\n",
    "W2 = np.random.randn(10, 1)"
   ]
  },
  {
   "cell_type": "code",
   "execution_count": 11,
   "metadata": {},
   "outputs": [
    {
     "data": {
      "text/plain": [
       "(60000, 784)"
      ]
     },
     "execution_count": 11,
     "metadata": {},
     "output_type": "execute_result"
    }
   ],
   "source": [
    "X.shape"
   ]
  },
  {
   "cell_type": "code",
   "execution_count": 12,
   "metadata": {},
   "outputs": [],
   "source": [
    "X = X.reshape(60000,784)"
   ]
  },
  {
   "cell_type": "markdown",
   "metadata": {},
   "source": [
    "### First Layer Activations"
   ]
  },
  {
   "cell_type": "code",
   "execution_count": 14,
   "metadata": {},
   "outputs": [],
   "source": [
    "Z1 = np.dot(X, W1)# multiply input with weights\n",
    "\n",
    "#Layer 1\n",
    "L1 = relu(Z1) # activation\n",
    "\n",
    "X2 = L1  # activation function of Z1"
   ]
  },
  {
   "cell_type": "markdown",
   "metadata": {},
   "source": [
    "### Second Layer Activations"
   ]
  },
  {
   "cell_type": "code",
   "execution_count": 15,
   "metadata": {},
   "outputs": [],
   "source": [
    "Z2 = np.dot(X2, W2) #multiplying later 2 \n",
    "\n",
    "#technically should be our y-hat"
   ]
  },
  {
   "cell_type": "markdown",
   "metadata": {},
   "source": [
    "### Softmax Equation"
   ]
  },
  {
   "cell_type": "code",
   "execution_count": 28,
   "metadata": {},
   "outputs": [],
   "source": [
    "y_hat = softmax(Z2) "
   ]
  },
  {
   "cell_type": "markdown",
   "metadata": {},
   "source": [
    "# Backward pass for single example"
   ]
  },
  {
   "cell_type": "code",
   "execution_count": 34,
   "metadata": {},
   "outputs": [
    {
     "name": "stderr",
     "output_type": "stream",
     "text": [
      "/anaconda3/lib/python3.6/site-packages/ipykernel_launcher.py:1: RuntimeWarning: divide by zero encountered in log\n",
      "  \"\"\"Entry point for launching an IPython kernel.\n",
      "/anaconda3/lib/python3.6/site-packages/ipykernel_launcher.py:1: RuntimeWarning: invalid value encountered in multiply\n",
      "  \"\"\"Entry point for launching an IPython kernel.\n"
     ]
    }
   ],
   "source": [
    "cost = np.sum( - (Y * np.log(y_hat) + (1 - Y) * np.log(1 - y_hat)) )\n",
    "\n",
    "dJ_dZ2 = d_softmax(y_hat,Y)                            \n",
    "\n",
    "dJ_dtheta2 = np.dot(Z1.T, dJ_dZ2)                      # compute gradients\n",
    "dJ_db2 = np.sum(dJ_dZ2, axis=0, keepdims=True)\n",
    "dJ_dZ1 = np.dot(dJ_dZ2, W2) * d_relu(Z1)\n",
    "dJ_db1 = np.sum(dJ_dZ1, axis=0, keepdims=True)"
   ]
  },
  {
   "cell_type": "markdown",
   "metadata": {},
   "source": [
    "# Define Neural Network Class"
   ]
  },
  {
   "cell_type": "code",
   "execution_count": 55,
   "metadata": {},
   "outputs": [],
   "source": [
    "class NeuralNetwork:\n",
    "    def __init__(self, num_hidden_nodes, num_classes, lr=0.001):\n",
    "        # set learning rate\n",
    "        self.lr = lr\n",
    "        \n",
    "        # init layer 1 weights\n",
    "        self.W1 = np.random.randn(num_classes, num_hidden_nodes)\n",
    "        self.b1 = np.zeros((1, num_classes))\n",
    "        \n",
    "        # init layer 2 weights\n",
    "        self.W2 = np.random.randn(num_hidden_nodes, 1)\n",
    "        self.b2 = np.zeros((1, num_hidden_nodes)) \n",
    "        \n",
    "        # set activation function\n",
    "        self.phi_1 = relu(self)\n",
    "        self.phi_2 = softmax(self)\n",
    "        \n",
    "        # set derivative of activation functions\n",
    "        self.d_phi_1 = d_relu(self)\n",
    "        self.d_phi_2 = d_softmax(self)\n",
    "        \n",
    "    #def d_softmax(self, g):\n",
    "        # derivative of softmax\n",
    "        #return \n",
    "    \n",
    "    #def softmax(self, z):\n",
    "        # softmax\n",
    "        #return \n",
    "    \n",
    "    def sigmoid(self, x):\n",
    "        1 / (1 + np.e ** -x)\n",
    "        return \n",
    "    \n",
    "    def d_sigmoid(self, x):\n",
    "        # derivative of sigmoid\n",
    "        sigmoid(x)*(1-sigmoid(x))\n",
    "        return \n",
    "\n",
    "    def relu(self, z):\n",
    "        return z * (z > 0)\n",
    "\n",
    "    def d_relu(self, g):\n",
    "        return g>0 \n",
    "\n",
    "    def d_softmax(self,y_hat, Y):\n",
    "        return y_hat - Y\n",
    "\n",
    "    def softmax(self,z):\n",
    "        # subracting the max adds numerical stability\n",
    "        shiftx = z - np.max(z,axis=1)[:,np.newaxis]\n",
    "        exps = np.exp(shiftx)\n",
    "        return exps / np.sum(exps,axis=1)[:,np.newaxis]    \n",
    "\n",
    "    \n",
    "    def forward(self, X1):\n",
    "        '''\n",
    "        Forward pass through the network\n",
    "        \n",
    "        INPUT\n",
    "            X: input to network\n",
    "                shape: (?, 784)\n",
    "        \n",
    "        RETURN\n",
    "            Y_hat: prediction from output of network \n",
    "                shape: (?, 10)\n",
    "        '''\n",
    "        l1 = relu(np.dot(X, theta_1) + b1)                     # l1 = X * theta_1\n",
    "        y_hat = softmax(np.dot(l1, theta_2) + b2)              # Y_hat = l1 * theta_2 + b\n",
    "        \n",
    "        # store input for backward pass\n",
    "\n",
    "        return self.y_hat\n",
    "    \n",
    "    def backward(self, y_hat, Y):\n",
    "        '''\n",
    "        Backward pass through network. Update parameters \n",
    "        \n",
    "        INPUT\n",
    "            Y_hat: Network predicted \n",
    "                shape: (?, 10)\n",
    "            \n",
    "            Y: Correct target\n",
    "                shape: (?, 10)\n",
    "            \n",
    "        RETURN \n",
    "            cost: calculate J for errors \n",
    "                type: (float)\n",
    "            \n",
    "        '''\n",
    "        cost = np.sum( - (Y * np.log(y_hat) + (1 - Y) * np.log(1 - y_hat)) )\n",
    "        \n",
    "        # dJ/dZ2 \n",
    "        dJ_dZ2 = d_softmax(y_hat,Y) \n",
    "        \n",
    "        # dJ/dW2 = dJ/dZ2 * dZ2/dW2\n",
    "        dJ_dW2 = np.dot(Z1.T, dJ_dZ2)\n",
    "        dJ_db2 = np.sum(dJ_dZ2, axis=0, keepdims=True)\n",
    "        \n",
    "        # dZ2/dX2 = dJ/dZ2 * dZ2/dX2\n",
    "        dZ2_dX2 = dJ_dZ2 * dZ2_dX2\n",
    "\n",
    "        # dX2/dZ1 = dZ2/dX2 * dX2/dZ1\n",
    "        dX2_dZ1 = dZ2_dX2 * dX2_dZ1\n",
    "\n",
    "        # dJ/dW1 = dJ/d * \n",
    "        dJ_dW1 = np.dot(X.T, dJ_DZ1)\n",
    "        dJ_db1 = np.sum(dJ_dZ1, axis=0, keepdims=True)\n",
    "        \n",
    "        # perform weight updates\n",
    "        self.W1 -= lr * dJ_dW1\n",
    "        self.b1 -= lr * dJ_db1\n",
    "        self.W2 -= lr * dJ_dW2 \n",
    "        self.b2 -= lr * dJ_db2\n",
    "        \n",
    "        return cost"
   ]
  },
  {
   "cell_type": "code",
   "execution_count": 56,
   "metadata": {},
   "outputs": [
    {
     "ename": "TypeError",
     "evalue": "'>' not supported between instances of 'NeuralNetwork' and 'int'",
     "output_type": "error",
     "traceback": [
      "\u001b[0;31m---------------------------------------------------------------------------\u001b[0m",
      "\u001b[0;31mTypeError\u001b[0m                                 Traceback (most recent call last)",
      "\u001b[0;32m<ipython-input-56-711c287fccd6>\u001b[0m in \u001b[0;36m<module>\u001b[0;34m()\u001b[0m\n\u001b[0;32m----> 1\u001b[0;31m \u001b[0mnn\u001b[0m \u001b[0;34m=\u001b[0m \u001b[0mNeuralNetwork\u001b[0m\u001b[0;34m(\u001b[0m\u001b[0;36m200\u001b[0m\u001b[0;34m,\u001b[0m\u001b[0;36m10\u001b[0m\u001b[0;34m,\u001b[0m\u001b[0mlr\u001b[0m\u001b[0;34m=\u001b[0m\u001b[0;36m.01\u001b[0m\u001b[0;34m)\u001b[0m\u001b[0;34m\u001b[0m\u001b[0m\n\u001b[0m\u001b[1;32m      2\u001b[0m \u001b[0mnum_train\u001b[0m \u001b[0;34m=\u001b[0m \u001b[0mfloat\u001b[0m\u001b[0;34m(\u001b[0m\u001b[0mlen\u001b[0m\u001b[0;34m(\u001b[0m\u001b[0mx_train\u001b[0m\u001b[0;34m)\u001b[0m\u001b[0;34m)\u001b[0m\u001b[0;34m;\u001b[0m \u001b[0mnum_test\u001b[0m \u001b[0;34m=\u001b[0m \u001b[0mfloat\u001b[0m\u001b[0;34m(\u001b[0m\u001b[0mlen\u001b[0m\u001b[0;34m(\u001b[0m\u001b[0mx_test\u001b[0m\u001b[0;34m)\u001b[0m\u001b[0;34m)\u001b[0m\u001b[0;34m\u001b[0m\u001b[0m\n\u001b[1;32m      3\u001b[0m \u001b[0;34m\u001b[0m\u001b[0m\n\u001b[1;32m      4\u001b[0m \u001b[0;32mfor\u001b[0m \u001b[0mepoch\u001b[0m \u001b[0;32min\u001b[0m \u001b[0mrange\u001b[0m\u001b[0;34m(\u001b[0m\u001b[0;36m10\u001b[0m\u001b[0;34m)\u001b[0m\u001b[0;34m:\u001b[0m\u001b[0;34m\u001b[0m\u001b[0m\n\u001b[1;32m      5\u001b[0m     \u001b[0mtrain_correct\u001b[0m \u001b[0;34m=\u001b[0m \u001b[0;36m0\u001b[0m\u001b[0;34m;\u001b[0m \u001b[0mtrain_cost\u001b[0m \u001b[0;34m=\u001b[0m \u001b[0;36m0\u001b[0m\u001b[0;34m\u001b[0m\u001b[0m\n",
      "\u001b[0;32m<ipython-input-55-cc91b248407e>\u001b[0m in \u001b[0;36m__init__\u001b[0;34m(self, num_hidden_nodes, num_classes, lr)\u001b[0m\n\u001b[1;32m     13\u001b[0m \u001b[0;34m\u001b[0m\u001b[0m\n\u001b[1;32m     14\u001b[0m         \u001b[0;31m# set activation function\u001b[0m\u001b[0;34m\u001b[0m\u001b[0;34m\u001b[0m\u001b[0m\n\u001b[0;32m---> 15\u001b[0;31m         \u001b[0mself\u001b[0m\u001b[0;34m.\u001b[0m\u001b[0mphi_1\u001b[0m \u001b[0;34m=\u001b[0m \u001b[0mrelu\u001b[0m\u001b[0;34m(\u001b[0m\u001b[0mself\u001b[0m\u001b[0;34m)\u001b[0m\u001b[0;34m\u001b[0m\u001b[0m\n\u001b[0m\u001b[1;32m     16\u001b[0m         \u001b[0mself\u001b[0m\u001b[0;34m.\u001b[0m\u001b[0mphi_2\u001b[0m \u001b[0;34m=\u001b[0m \u001b[0msoftmax\u001b[0m\u001b[0;34m(\u001b[0m\u001b[0mself\u001b[0m\u001b[0;34m)\u001b[0m\u001b[0;34m\u001b[0m\u001b[0m\n\u001b[1;32m     17\u001b[0m \u001b[0;34m\u001b[0m\u001b[0m\n",
      "\u001b[0;32m<ipython-input-7-c26008ebfe4f>\u001b[0m in \u001b[0;36mrelu\u001b[0;34m(z)\u001b[0m\n\u001b[1;32m      1\u001b[0m \u001b[0;32mdef\u001b[0m \u001b[0mrelu\u001b[0m\u001b[0;34m(\u001b[0m\u001b[0mz\u001b[0m\u001b[0;34m)\u001b[0m\u001b[0;34m:\u001b[0m\u001b[0;34m\u001b[0m\u001b[0m\n\u001b[0;32m----> 2\u001b[0;31m     \u001b[0;32mreturn\u001b[0m \u001b[0mz\u001b[0m \u001b[0;34m*\u001b[0m \u001b[0;34m(\u001b[0m\u001b[0mz\u001b[0m \u001b[0;34m>\u001b[0m \u001b[0;36m0\u001b[0m\u001b[0;34m)\u001b[0m\u001b[0;34m\u001b[0m\u001b[0m\n\u001b[0m\u001b[1;32m      3\u001b[0m \u001b[0;34m\u001b[0m\u001b[0m\n\u001b[1;32m      4\u001b[0m \u001b[0;32mdef\u001b[0m \u001b[0md_relu\u001b[0m\u001b[0;34m(\u001b[0m\u001b[0mg\u001b[0m\u001b[0;34m)\u001b[0m\u001b[0;34m:\u001b[0m\u001b[0;34m\u001b[0m\u001b[0m\n\u001b[1;32m      5\u001b[0m     \u001b[0;32mreturn\u001b[0m \u001b[0mg\u001b[0m\u001b[0;34m>\u001b[0m\u001b[0;36m0\u001b[0m\u001b[0;34m\u001b[0m\u001b[0m\n",
      "\u001b[0;31mTypeError\u001b[0m: '>' not supported between instances of 'NeuralNetwork' and 'int'"
     ]
    }
   ],
   "source": [
    "nn = NeuralNetwork(200,10,lr=.01)\n",
    "num_train = float(len(x_train)); num_test = float(len(x_test))\n",
    "\n",
    "for epoch in range(10):\n",
    "    train_correct = 0; train_cost = 0\n",
    "    # training loop\n",
    "    for x,y in zip(x_train, y_train):\n",
    "        # standardizing input to range 0 to 1\n",
    "        X = x.reshape(1,784) /255.\n",
    "        \n",
    "        # forward pass through network\n",
    "        Y_hat = nn.forward(X)\n",
    "\n",
    "        # get pred number\n",
    "        pred_num = np.argmax(Y_hat)\n",
    "        \n",
    "        # check if prediction was accurate\n",
    "        if pred_num == y:\n",
    "            train_correct += 1\n",
    "            \n",
    "        zeros = np.zeros(10); zeros[y] = 1\n",
    "        Y = zeros\n",
    "        \n",
    "        # compute gradients and update weights\n",
    "        train_cost += nn.backward(Y_hat, Y)\n",
    "    \n",
    "    test_correct = 0\n",
    "    # validation loop\n",
    "    for x,y in zip(x_test, y_test):\n",
    "        # standardizing input to range 0 to 1\n",
    "        X = x.reshape(1,784) /255.\n",
    "        \n",
    "        # forward pass\n",
    "        y_hat = nn.forward(X)\n",
    "        \n",
    "        # get pred number\n",
    "        pred_num = np.argmax(y_hat)\n",
    "        \n",
    "        # check if prediction was correct\n",
    "        if pred_num == y:\n",
    "            test_correct += 1\n",
    "            \n",
    "        # no backward pass here!\n",
    "        \n",
    "    # compute average metrics for train and test\n",
    "    train_correct = round(100*(train_correct/num_train), 2)\n",
    "    test_correct = round(100*(test_correct/num_test ), 2)\n",
    "    train_cost = round( train_cost/num_train, 2)\n",
    "    \n",
    "    # print status message every epoch\n",
    "    log_message = 'Epoch: {}, Train Accuracy: {}%, Train Cost: {}, Test Accuracy: {}%'.format(epoch, train_correct, train_cost, test_correct)\n",
    "    print (log_message)"
   ]
  },
  {
   "cell_type": "code",
   "execution_count": 7,
   "metadata": {},
   "outputs": [
    {
     "ename": "NameError",
     "evalue": "name 'nn' is not defined",
     "output_type": "error",
     "traceback": [
      "\u001b[0;31m---------------------------------------------------------------------------\u001b[0m",
      "\u001b[0;31mNameError\u001b[0m                                 Traceback (most recent call last)",
      "\u001b[0;32m<ipython-input-7-bca4bea6af7e>\u001b[0m in \u001b[0;36m<module>\u001b[0;34m()\u001b[0m\n\u001b[1;32m      1\u001b[0m \u001b[0mX\u001b[0m \u001b[0;34m=\u001b[0m \u001b[0mx_test\u001b[0m\u001b[0;34m[\u001b[0m\u001b[0;36m0\u001b[0m\u001b[0;34m]\u001b[0m\u001b[0;34m.\u001b[0m\u001b[0mreshape\u001b[0m\u001b[0;34m(\u001b[0m\u001b[0;36m1\u001b[0m\u001b[0;34m,\u001b[0m\u001b[0;36m784\u001b[0m\u001b[0;34m)\u001b[0m\u001b[0;34m\u001b[0m\u001b[0m\n\u001b[0;32m----> 2\u001b[0;31m \u001b[0mY_hat\u001b[0m \u001b[0;34m=\u001b[0m \u001b[0mnn\u001b[0m\u001b[0;34m.\u001b[0m\u001b[0mforward\u001b[0m\u001b[0;34m(\u001b[0m\u001b[0mX\u001b[0m\u001b[0;34m)\u001b[0m\u001b[0;34m[\u001b[0m\u001b[0;36m0\u001b[0m\u001b[0;34m]\u001b[0m\u001b[0;34m\u001b[0m\u001b[0m\n\u001b[0m\u001b[1;32m      3\u001b[0m \u001b[0;34m\u001b[0m\u001b[0m\n\u001b[1;32m      4\u001b[0m \u001b[0mshow_img\u001b[0m\u001b[0;34m(\u001b[0m\u001b[0mX\u001b[0m\u001b[0;34m,\u001b[0m\u001b[0mY_hat\u001b[0m\u001b[0;34m)\u001b[0m\u001b[0;34m\u001b[0m\u001b[0m\n",
      "\u001b[0;31mNameError\u001b[0m: name 'nn' is not defined"
     ]
    }
   ],
   "source": [
    "X = x_test[0].reshape(1,784)\n",
    "Y_hat = nn.forward(X)[0]\n",
    "\n",
    "show_img(X,Y_hat)"
   ]
  },
  {
   "cell_type": "markdown",
   "metadata": {},
   "source": [
    "# Keras"
   ]
  },
  {
   "cell_type": "code",
   "execution_count": 15,
   "metadata": {},
   "outputs": [],
   "source": [
    "from keras.models import Sequential\n",
    "from keras.layers.core import Dense\n",
    "\n",
    "# TensorFlow and tf.keras\n",
    "import tensorflow as tf\n",
    "from tensorflow import keras\n",
    "\n",
    "# Helper libraries\n",
    "import numpy as np\n",
    "import matplotlib.pyplot as plt"
   ]
  },
  {
   "cell_type": "code",
   "execution_count": 25,
   "metadata": {},
   "outputs": [
    {
     "name": "stdout",
     "output_type": "stream",
     "text": [
      "Train on 60000 samples, validate on 10000 samples\n",
      "Epoch 1/10\n",
      "60000/60000 [==============================] - 5s 82us/step - loss: 8.3466 - acc: 0.4803 - val_loss: 6.5898 - val_acc: 0.5891\n",
      "Epoch 2/10\n",
      "60000/60000 [==============================] - 6s 95us/step - loss: 5.5513 - acc: 0.6544 - val_loss: 4.6491 - val_acc: 0.7104\n",
      "Epoch 3/10\n",
      "60000/60000 [==============================] - 4s 71us/step - loss: 4.7396 - acc: 0.7048 - val_loss: 4.5157 - val_acc: 0.7189\n",
      "Epoch 4/10\n",
      "60000/60000 [==============================] - 4s 68us/step - loss: 4.4167 - acc: 0.7251 - val_loss: 4.3490 - val_acc: 0.7297\n",
      "Epoch 5/10\n",
      "60000/60000 [==============================] - 4s 71us/step - loss: 4.3669 - acc: 0.7283 - val_loss: 4.1371 - val_acc: 0.7428\n",
      "Epoch 6/10\n",
      "60000/60000 [==============================] - 5s 76us/step - loss: 4.2460 - acc: 0.7358 - val_loss: 4.0746 - val_acc: 0.7468\n",
      "Epoch 7/10\n",
      "60000/60000 [==============================] - 5s 77us/step - loss: 4.1613 - acc: 0.7412 - val_loss: 4.0588 - val_acc: 0.7479\n",
      "Epoch 8/10\n",
      "60000/60000 [==============================] - 5s 85us/step - loss: 4.2639 - acc: 0.7350 - val_loss: 4.0408 - val_acc: 0.7488\n",
      "Epoch 9/10\n",
      "60000/60000 [==============================] - 5s 90us/step - loss: 4.2530 - acc: 0.7356 - val_loss: 4.1833 - val_acc: 0.7402\n",
      "Epoch 10/10\n",
      "60000/60000 [==============================] - 5s 81us/step - loss: 4.1994 - acc: 0.7392 - val_loss: 4.1237 - val_acc: 0.7439\n"
     ]
    },
    {
     "data": {
      "text/plain": [
       "<tensorflow.python.keras.callbacks.History at 0xb29a52588>"
      ]
     },
     "execution_count": 25,
     "metadata": {},
     "output_type": "execute_result"
    }
   ],
   "source": [
    "#resized x_train data to make it two dimensional array\n",
    "\n",
    "# build model\n",
    "model = keras.Sequential([\n",
    "    keras.layers.Flatten(input_shape=(28, 28)),\n",
    "    keras.layers.Dense(128, activation=\"relu\"),\n",
    "    keras.layers.Dense(10, activation=\"softmax\")\n",
    "])\n",
    "\n",
    "model.compile(optimizer=tf.train.AdamOptimizer(), \n",
    "              loss='sparse_categorical_crossentropy',\n",
    "              metrics=['accuracy'])\n",
    "\n",
    "model.fit(x_train, y_train,batch_size=32,epochs=10,verbose=1,validation_data=(x_test, y_test))"
   ]
  },
  {
   "cell_type": "code",
   "execution_count": 26,
   "metadata": {},
   "outputs": [
    {
     "name": "stdout",
     "output_type": "stream",
     "text": [
      "10000/10000 [==============================] - 1s 54us/step\n",
      "Test accuracy: 0.7439\n"
     ]
    }
   ],
   "source": [
    "test_loss, test_acc = model.evaluate(x_test, y_test)\n",
    "\n",
    "print('Test accuracy:', test_acc)"
   ]
  },
  {
   "cell_type": "markdown",
   "metadata": {},
   "source": [
    "## Extra Credit"
   ]
  },
  {
   "cell_type": "code",
   "execution_count": 67,
   "metadata": {},
   "outputs": [],
   "source": [
    "X = x_train; Y = y_train\n",
    "zeros = np.zeros(10); zeros[Y] = 1\n",
    "Y = zeros\n",
    "\n",
    "X = X.reshape(60000,784)\n"
   ]
  },
  {
   "cell_type": "code",
   "execution_count": 68,
   "metadata": {},
   "outputs": [],
   "source": [
    "W1 = np.random.randn(784, 20)\n",
    "W2 = np.random.randn(20, 10)\n",
    "W3 = np.random.randn(10, 1)"
   ]
  },
  {
   "cell_type": "code",
   "execution_count": 69,
   "metadata": {},
   "outputs": [],
   "source": [
    "Z1 = np.dot(X, W1)# multiply input with weights\n",
    "\n",
    "#Layer 1\n",
    "L1 = relu(Z1) # activation\n",
    "\n",
    "X2 = L1  # activation function of Z1"
   ]
  },
  {
   "cell_type": "code",
   "execution_count": 71,
   "metadata": {},
   "outputs": [
    {
     "data": {
      "text/plain": [
       "((60000, 20), (60000, 784))"
      ]
     },
     "execution_count": 71,
     "metadata": {},
     "output_type": "execute_result"
    }
   ],
   "source": [
    "L1.shape, X.shape"
   ]
  },
  {
   "cell_type": "code",
   "execution_count": 72,
   "metadata": {},
   "outputs": [],
   "source": [
    "Z2 = np.dot(X2, W2) #multiplying later 2 \n",
    "\n",
    "L2 = relu(Z2)\n",
    "\n",
    "X3 = L2\n",
    "\n",
    "#technically should be our y-hat"
   ]
  },
  {
   "cell_type": "code",
   "execution_count": 76,
   "metadata": {},
   "outputs": [
    {
     "data": {
      "text/plain": [
       "((60000, 10), (60000, 10))"
      ]
     },
     "execution_count": 76,
     "metadata": {},
     "output_type": "execute_result"
    }
   ],
   "source": [
    "X3.shape, L2.shape"
   ]
  },
  {
   "cell_type": "code",
   "execution_count": 77,
   "metadata": {},
   "outputs": [],
   "source": [
    "Z3 = np.dot(X3,W3)"
   ]
  },
  {
   "cell_type": "markdown",
   "metadata": {},
   "source": [
    "## Statement of Collaboration"
   ]
  },
  {
   "cell_type": "markdown",
   "metadata": {},
   "source": [
    "https://machinelearningmastery.com/tutorial-first-neural-network-python-keras/\n",
    "https://keras.io/getting-started/sequential-model-guide/\n",
    "https://www.tensorflow.org/tutorials/keras/basic_classification\n",
    "\n",
    "I worked with Matt, Ryan, and Tucker"
   ]
  }
 ],
 "metadata": {
  "kernelspec": {
   "display_name": "Python 3",
   "language": "python",
   "name": "python3"
  },
  "language_info": {
   "codemirror_mode": {
    "name": "ipython",
    "version": 3
   },
   "file_extension": ".py",
   "mimetype": "text/x-python",
   "name": "python",
   "nbconvert_exporter": "python",
   "pygments_lexer": "ipython3",
   "version": "3.6.5"
  }
 },
 "nbformat": 4,
 "nbformat_minor": 2
}
