{
 "cells": [
  {
   "cell_type": "markdown",
   "metadata": {},
   "source": [
    "# Decision Tree Lab"
   ]
  },
  {
   "cell_type": "code",
   "execution_count": 16,
   "metadata": {},
   "outputs": [],
   "source": [
    "# Importing the required packages \n",
    "import numpy as np \n",
    "import pandas as pd\n",
    "import graphviz \n",
    "import matplotlib.pyplot as plt\n",
    "import matplotlib.image as mpimg\n",
    "\n",
    "%matplotlib inline\n",
    "from sklearn import neighbors, datasets, tree\n",
    "from sklearn.metrics import confusion_matrix \n",
    "from sklearn.cross_validation import train_test_split \n",
    "from sklearn.tree import DecisionTreeClassifier \n",
    "from sklearn.metrics import accuracy_score \n",
    "from sklearn.metrics import classification_report "
   ]
  },
  {
   "cell_type": "markdown",
   "metadata": {},
   "source": [
    "## Downloading Data Set"
   ]
  },
  {
   "cell_type": "code",
   "execution_count": 2,
   "metadata": {},
   "outputs": [
    {
     "data": {
      "text/html": [
       "<div>\n",
       "<style scoped>\n",
       "    .dataframe tbody tr th:only-of-type {\n",
       "        vertical-align: middle;\n",
       "    }\n",
       "\n",
       "    .dataframe tbody tr th {\n",
       "        vertical-align: top;\n",
       "    }\n",
       "\n",
       "    .dataframe thead th {\n",
       "        text-align: right;\n",
       "    }\n",
       "</style>\n",
       "<table border=\"1\" class=\"dataframe\">\n",
       "  <thead>\n",
       "    <tr style=\"text-align: right;\">\n",
       "      <th></th>\n",
       "      <th>sepal length (cm)</th>\n",
       "      <th>sepal width (cm)</th>\n",
       "      <th>petal length (cm)</th>\n",
       "      <th>petal width (cm)</th>\n",
       "    </tr>\n",
       "  </thead>\n",
       "  <tbody>\n",
       "    <tr>\n",
       "      <th>0</th>\n",
       "      <td>5.1</td>\n",
       "      <td>3.5</td>\n",
       "      <td>1.4</td>\n",
       "      <td>0.2</td>\n",
       "    </tr>\n",
       "    <tr>\n",
       "      <th>1</th>\n",
       "      <td>4.9</td>\n",
       "      <td>3.0</td>\n",
       "      <td>1.4</td>\n",
       "      <td>0.2</td>\n",
       "    </tr>\n",
       "    <tr>\n",
       "      <th>2</th>\n",
       "      <td>4.7</td>\n",
       "      <td>3.2</td>\n",
       "      <td>1.3</td>\n",
       "      <td>0.2</td>\n",
       "    </tr>\n",
       "    <tr>\n",
       "      <th>3</th>\n",
       "      <td>4.6</td>\n",
       "      <td>3.1</td>\n",
       "      <td>1.5</td>\n",
       "      <td>0.2</td>\n",
       "    </tr>\n",
       "    <tr>\n",
       "      <th>4</th>\n",
       "      <td>5.0</td>\n",
       "      <td>3.6</td>\n",
       "      <td>1.4</td>\n",
       "      <td>0.2</td>\n",
       "    </tr>\n",
       "  </tbody>\n",
       "</table>\n",
       "</div>"
      ],
      "text/plain": [
       "   sepal length (cm)  sepal width (cm)  petal length (cm)  petal width (cm)\n",
       "0                5.1               3.5                1.4               0.2\n",
       "1                4.9               3.0                1.4               0.2\n",
       "2                4.7               3.2                1.3               0.2\n",
       "3                4.6               3.1                1.5               0.2\n",
       "4                5.0               3.6                1.4               0.2"
      ]
     },
     "execution_count": 2,
     "metadata": {},
     "output_type": "execute_result"
    }
   ],
   "source": [
    "iris = datasets.load_iris()\n",
    "\n",
    "X = iris.data[:, :4]\n",
    "y = iris.target\n",
    "e\n",
    "pd.DataFrame(X, columns=iris['feature_names'][:4]).head()"
   ]
  },
  {
   "cell_type": "markdown",
   "metadata": {},
   "source": [
    "## Splitting Data Set"
   ]
  },
  {
   "cell_type": "code",
   "execution_count": 3,
   "metadata": {},
   "outputs": [
    {
     "data": {
      "text/plain": [
       "((105, 4), (45, 4), (105,), (45,))"
      ]
     },
     "execution_count": 3,
     "metadata": {},
     "output_type": "execute_result"
    }
   ],
   "source": [
    "test_percent = .3\n",
    "X_train, X_test, y_train, y_test = train_test_split(X, y, test_size = test_percent)\n",
    "\n",
    "X_train.shape, X_test.shape, y_train.shape, y_test.shape"
   ]
  },
  {
   "cell_type": "markdown",
   "metadata": {},
   "source": [
    "## Training Classification Decision Tree"
   ]
  },
  {
   "cell_type": "code",
   "execution_count": 5,
   "metadata": {},
   "outputs": [],
   "source": [
    "clf = tree.DecisionTreeClassifier()\n",
    "clf = clf.fit(X_train, y_train)\n",
    "\n",
    "dot_data = tree.export_graphviz(clf, out_file=None) \n",
    "graph = graphviz.Source(dot_data) \n",
    "#graph.render(\"iris\") "
   ]
  },
  {
   "cell_type": "code",
   "execution_count": 6,
   "metadata": {},
   "outputs": [
    {
     "data": {
      "image/svg+xml": [
       "<?xml version=\"1.0\" encoding=\"UTF-8\" standalone=\"no\"?>\n",
       "<!DOCTYPE svg PUBLIC \"-//W3C//DTD SVG 1.1//EN\"\n",
       " \"http://www.w3.org/Graphics/SVG/1.1/DTD/svg11.dtd\">\n",
       "<!-- Generated by graphviz version 2.40.1 (20161225.0304)\n",
       " -->\n",
       "<!-- Title: Tree Pages: 1 -->\n",
       "<svg width=\"416pt\" height=\"671pt\"\n",
       " viewBox=\"0.00 0.00 415.50 671.00\" xmlns=\"http://www.w3.org/2000/svg\" xmlns:xlink=\"http://www.w3.org/1999/xlink\">\n",
       "<g id=\"graph0\" class=\"graph\" transform=\"scale(1 1) rotate(0) translate(4 667)\">\n",
       "<title>Tree</title>\n",
       "<polygon fill=\"#ffffff\" stroke=\"transparent\" points=\"-4,4 -4,-667 411.5,-667 411.5,4 -4,4\"/>\n",
       "<!-- 0 -->\n",
       "<g id=\"node1\" class=\"node\">\n",
       "<title>0</title>\n",
       "<path fill=\"#39e581\" fill-opacity=\"0.070588\" stroke=\"#000000\" d=\"M278,-663C278,-663 185,-663 185,-663 179,-663 173,-657 173,-651 173,-651 173,-592 173,-592 173,-586 179,-580 185,-580 185,-580 278,-580 278,-580 284,-580 290,-586 290,-592 290,-592 290,-651 290,-651 290,-657 284,-663 278,-663\"/>\n",
       "<text text-anchor=\"start\" x=\"181\" y=\"-647.8\" font-family=\"Helvetica,sans-Serif\" font-size=\"14.00\" fill=\"#000000\">petal width (cm) ≤ 0.8</text>\n",
       "<text text-anchor=\"start\" x=\"204\" y=\"-632.8\" font-family=\"Helvetica,sans-Serif\" font-size=\"14.00\" fill=\"#000000\">gini = 0.664</text>\n",
       "<text text-anchor=\"start\" x=\"197\" y=\"-617.8\" font-family=\"Helvetica,sans-Serif\" font-size=\"14.00\" fill=\"#000000\">samples = 105</text>\n",
       "<text text-anchor=\"start\" x=\"186.5\" y=\"-602.8\" font-family=\"Helvetica,sans-Serif\" font-size=\"14.00\" fill=\"#000000\">value = [34, 39, 32]</text>\n",
       "<text text-anchor=\"start\" x=\"191\" y=\"-587.8\" font-family=\"Helvetica,sans-Serif\" font-size=\"14.00\" fill=\"#000000\">class = versicolor</text>\n",
       "</g>\n",
       "<!-- 1 -->\n",
       "<g id=\"node2\" class=\"node\">\n",
       "<title>1</title>\n",
       "<path fill=\"#e58139\" stroke=\"#000000\" d=\"M203.5,-536.5C203.5,-536.5 133.5,-536.5 133.5,-536.5 127.5,-536.5 121.5,-530.5 121.5,-524.5 121.5,-524.5 121.5,-480.5 121.5,-480.5 121.5,-474.5 127.5,-468.5 133.5,-468.5 133.5,-468.5 203.5,-468.5 203.5,-468.5 209.5,-468.5 215.5,-474.5 215.5,-480.5 215.5,-480.5 215.5,-524.5 215.5,-524.5 215.5,-530.5 209.5,-536.5 203.5,-536.5\"/>\n",
       "<text text-anchor=\"start\" x=\"147\" y=\"-521.3\" font-family=\"Helvetica,sans-Serif\" font-size=\"14.00\" fill=\"#000000\">gini = 0.0</text>\n",
       "<text text-anchor=\"start\" x=\"137\" y=\"-506.3\" font-family=\"Helvetica,sans-Serif\" font-size=\"14.00\" fill=\"#000000\">samples = 34</text>\n",
       "<text text-anchor=\"start\" x=\"129.5\" y=\"-491.3\" font-family=\"Helvetica,sans-Serif\" font-size=\"14.00\" fill=\"#000000\">value = [34, 0, 0]</text>\n",
       "<text text-anchor=\"start\" x=\"135\" y=\"-476.3\" font-family=\"Helvetica,sans-Serif\" font-size=\"14.00\" fill=\"#000000\">class = setosa</text>\n",
       "</g>\n",
       "<!-- 0&#45;&gt;1 -->\n",
       "<g id=\"edge1\" class=\"edge\">\n",
       "<title>0&#45;&gt;1</title>\n",
       "<path fill=\"none\" stroke=\"#000000\" d=\"M209.4657,-579.8796C203.6442,-568.8835 197.3473,-556.9893 191.4773,-545.9015\"/>\n",
       "<polygon fill=\"#000000\" stroke=\"#000000\" points=\"194.4389,-544.0152 186.6667,-536.8149 188.2524,-547.2905 194.4389,-544.0152\"/>\n",
       "<text text-anchor=\"middle\" x=\"179.3146\" y=\"-557.0094\" font-family=\"Helvetica,sans-Serif\" font-size=\"14.00\" fill=\"#000000\">True</text>\n",
       "</g>\n",
       "<!-- 2 -->\n",
       "<g id=\"node3\" class=\"node\">\n",
       "<title>2</title>\n",
       "<path fill=\"#39e581\" fill-opacity=\"0.180392\" stroke=\"#000000\" d=\"M345,-544C345,-544 246,-544 246,-544 240,-544 234,-538 234,-532 234,-532 234,-473 234,-473 234,-467 240,-461 246,-461 246,-461 345,-461 345,-461 351,-461 357,-467 357,-473 357,-473 357,-532 357,-532 357,-538 351,-544 345,-544\"/>\n",
       "<text text-anchor=\"start\" x=\"242\" y=\"-528.8\" font-family=\"Helvetica,sans-Serif\" font-size=\"14.00\" fill=\"#000000\">petal width (cm) ≤ 1.75</text>\n",
       "<text text-anchor=\"start\" x=\"268\" y=\"-513.8\" font-family=\"Helvetica,sans-Serif\" font-size=\"14.00\" fill=\"#000000\">gini = 0.495</text>\n",
       "<text text-anchor=\"start\" x=\"264\" y=\"-498.8\" font-family=\"Helvetica,sans-Serif\" font-size=\"14.00\" fill=\"#000000\">samples = 71</text>\n",
       "<text text-anchor=\"start\" x=\"253.5\" y=\"-483.8\" font-family=\"Helvetica,sans-Serif\" font-size=\"14.00\" fill=\"#000000\">value = [0, 39, 32]</text>\n",
       "<text text-anchor=\"start\" x=\"255\" y=\"-468.8\" font-family=\"Helvetica,sans-Serif\" font-size=\"14.00\" fill=\"#000000\">class = versicolor</text>\n",
       "</g>\n",
       "<!-- 0&#45;&gt;2 -->\n",
       "<g id=\"edge2\" class=\"edge\">\n",
       "<title>0&#45;&gt;2</title>\n",
       "<path fill=\"none\" stroke=\"#000000\" d=\"M253.8841,-579.8796C258.4856,-571.3236 263.3796,-562.2238 268.1342,-553.3833\"/>\n",
       "<polygon fill=\"#000000\" stroke=\"#000000\" points=\"271.3662,-554.763 273.0204,-544.2981 265.2012,-551.4473 271.3662,-554.763\"/>\n",
       "<text text-anchor=\"middle\" x=\"280.2161\" y=\"-564.5401\" font-family=\"Helvetica,sans-Serif\" font-size=\"14.00\" fill=\"#000000\">False</text>\n",
       "</g>\n",
       "<!-- 3 -->\n",
       "<g id=\"node4\" class=\"node\">\n",
       "<title>3</title>\n",
       "<path fill=\"#39e581\" fill-opacity=\"0.949020\" stroke=\"#000000\" d=\"M283,-425C283,-425 180,-425 180,-425 174,-425 168,-419 168,-413 168,-413 168,-354 168,-354 168,-348 174,-342 180,-342 180,-342 283,-342 283,-342 289,-342 295,-348 295,-354 295,-354 295,-413 295,-413 295,-419 289,-425 283,-425\"/>\n",
       "<text text-anchor=\"start\" x=\"176\" y=\"-409.8\" font-family=\"Helvetica,sans-Serif\" font-size=\"14.00\" fill=\"#000000\">petal length (cm) ≤ 5.35</text>\n",
       "<text text-anchor=\"start\" x=\"204\" y=\"-394.8\" font-family=\"Helvetica,sans-Serif\" font-size=\"14.00\" fill=\"#000000\">gini = 0.093</text>\n",
       "<text text-anchor=\"start\" x=\"200\" y=\"-379.8\" font-family=\"Helvetica,sans-Serif\" font-size=\"14.00\" fill=\"#000000\">samples = 41</text>\n",
       "<text text-anchor=\"start\" x=\"192.5\" y=\"-364.8\" font-family=\"Helvetica,sans-Serif\" font-size=\"14.00\" fill=\"#000000\">value = [0, 39, 2]</text>\n",
       "<text text-anchor=\"start\" x=\"191\" y=\"-349.8\" font-family=\"Helvetica,sans-Serif\" font-size=\"14.00\" fill=\"#000000\">class = versicolor</text>\n",
       "</g>\n",
       "<!-- 2&#45;&gt;3 -->\n",
       "<g id=\"edge3\" class=\"edge\">\n",
       "<title>2&#45;&gt;3</title>\n",
       "<path fill=\"none\" stroke=\"#000000\" d=\"M273.1159,-460.8796C268.5144,-452.3236 263.6204,-443.2238 258.8658,-434.3833\"/>\n",
       "<polygon fill=\"#000000\" stroke=\"#000000\" points=\"261.7988,-432.4473 253.9796,-425.2981 255.6338,-435.763 261.7988,-432.4473\"/>\n",
       "</g>\n",
       "<!-- 10 -->\n",
       "<g id=\"node11\" class=\"node\">\n",
       "<title>10</title>\n",
       "<path fill=\"#8139e5\" stroke=\"#000000\" d=\"M395.5,-417.5C395.5,-417.5 325.5,-417.5 325.5,-417.5 319.5,-417.5 313.5,-411.5 313.5,-405.5 313.5,-405.5 313.5,-361.5 313.5,-361.5 313.5,-355.5 319.5,-349.5 325.5,-349.5 325.5,-349.5 395.5,-349.5 395.5,-349.5 401.5,-349.5 407.5,-355.5 407.5,-361.5 407.5,-361.5 407.5,-405.5 407.5,-405.5 407.5,-411.5 401.5,-417.5 395.5,-417.5\"/>\n",
       "<text text-anchor=\"start\" x=\"339\" y=\"-402.3\" font-family=\"Helvetica,sans-Serif\" font-size=\"14.00\" fill=\"#000000\">gini = 0.0</text>\n",
       "<text text-anchor=\"start\" x=\"329\" y=\"-387.3\" font-family=\"Helvetica,sans-Serif\" font-size=\"14.00\" fill=\"#000000\">samples = 30</text>\n",
       "<text text-anchor=\"start\" x=\"321.5\" y=\"-372.3\" font-family=\"Helvetica,sans-Serif\" font-size=\"14.00\" fill=\"#000000\">value = [0, 0, 30]</text>\n",
       "<text text-anchor=\"start\" x=\"323\" y=\"-357.3\" font-family=\"Helvetica,sans-Serif\" font-size=\"14.00\" fill=\"#000000\">class = virginica</text>\n",
       "</g>\n",
       "<!-- 2&#45;&gt;10 -->\n",
       "<g id=\"edge10\" class=\"edge\">\n",
       "<title>2&#45;&gt;10</title>\n",
       "<path fill=\"none\" stroke=\"#000000\" d=\"M318.2338,-460.8796C324.2401,-449.8835 330.737,-437.9893 336.7933,-426.9015\"/>\n",
       "<polygon fill=\"#000000\" stroke=\"#000000\" points=\"340.0345,-428.2689 341.7565,-417.8149 333.8912,-424.9133 340.0345,-428.2689\"/>\n",
       "</g>\n",
       "<!-- 4 -->\n",
       "<g id=\"node5\" class=\"node\">\n",
       "<title>4</title>\n",
       "<path fill=\"#39e581\" fill-opacity=\"0.972549\" stroke=\"#000000\" d=\"M220,-306C220,-306 115,-306 115,-306 109,-306 103,-300 103,-294 103,-294 103,-235 103,-235 103,-229 109,-223 115,-223 115,-223 220,-223 220,-223 226,-223 232,-229 232,-235 232,-235 232,-294 232,-294 232,-300 226,-306 220,-306\"/>\n",
       "<text text-anchor=\"start\" x=\"111\" y=\"-290.8\" font-family=\"Helvetica,sans-Serif\" font-size=\"14.00\" fill=\"#000000\">sepal length (cm) ≤ 4.95</text>\n",
       "<text text-anchor=\"start\" x=\"140\" y=\"-275.8\" font-family=\"Helvetica,sans-Serif\" font-size=\"14.00\" fill=\"#000000\">gini = 0.049</text>\n",
       "<text text-anchor=\"start\" x=\"136\" y=\"-260.8\" font-family=\"Helvetica,sans-Serif\" font-size=\"14.00\" fill=\"#000000\">samples = 40</text>\n",
       "<text text-anchor=\"start\" x=\"128.5\" y=\"-245.8\" font-family=\"Helvetica,sans-Serif\" font-size=\"14.00\" fill=\"#000000\">value = [0, 39, 1]</text>\n",
       "<text text-anchor=\"start\" x=\"127\" y=\"-230.8\" font-family=\"Helvetica,sans-Serif\" font-size=\"14.00\" fill=\"#000000\">class = versicolor</text>\n",
       "</g>\n",
       "<!-- 3&#45;&gt;4 -->\n",
       "<g id=\"edge4\" class=\"edge\">\n",
       "<title>3&#45;&gt;4</title>\n",
       "<path fill=\"none\" stroke=\"#000000\" d=\"M209.1159,-341.8796C204.5144,-333.3236 199.6204,-324.2238 194.8658,-315.3833\"/>\n",
       "<polygon fill=\"#000000\" stroke=\"#000000\" points=\"197.7988,-313.4473 189.9796,-306.2981 191.6338,-316.763 197.7988,-313.4473\"/>\n",
       "</g>\n",
       "<!-- 9 -->\n",
       "<g id=\"node10\" class=\"node\">\n",
       "<title>9</title>\n",
       "<path fill=\"#8139e5\" stroke=\"#000000\" d=\"M329,-298.5C329,-298.5 262,-298.5 262,-298.5 256,-298.5 250,-292.5 250,-286.5 250,-286.5 250,-242.5 250,-242.5 250,-236.5 256,-230.5 262,-230.5 262,-230.5 329,-230.5 329,-230.5 335,-230.5 341,-236.5 341,-242.5 341,-242.5 341,-286.5 341,-286.5 341,-292.5 335,-298.5 329,-298.5\"/>\n",
       "<text text-anchor=\"start\" x=\"274\" y=\"-283.3\" font-family=\"Helvetica,sans-Serif\" font-size=\"14.00\" fill=\"#000000\">gini = 0.0</text>\n",
       "<text text-anchor=\"start\" x=\"267\" y=\"-268.3\" font-family=\"Helvetica,sans-Serif\" font-size=\"14.00\" fill=\"#000000\">samples = 1</text>\n",
       "<text text-anchor=\"start\" x=\"259\" y=\"-253.3\" font-family=\"Helvetica,sans-Serif\" font-size=\"14.00\" fill=\"#000000\">value = [0, 0, 1]</text>\n",
       "<text text-anchor=\"start\" x=\"258\" y=\"-238.3\" font-family=\"Helvetica,sans-Serif\" font-size=\"14.00\" fill=\"#000000\">class = virginica</text>\n",
       "</g>\n",
       "<!-- 3&#45;&gt;9 -->\n",
       "<g id=\"edge9\" class=\"edge\">\n",
       "<title>3&#45;&gt;9</title>\n",
       "<path fill=\"none\" stroke=\"#000000\" d=\"M253.8841,-341.8796C259.798,-330.8835 266.1949,-318.9893 272.158,-307.9015\"/>\n",
       "<polygon fill=\"#000000\" stroke=\"#000000\" points=\"275.3908,-309.2799 277.0449,-298.8149 269.2258,-305.9642 275.3908,-309.2799\"/>\n",
       "</g>\n",
       "<!-- 5 -->\n",
       "<g id=\"node6\" class=\"node\">\n",
       "<title>5</title>\n",
       "<path fill=\"transparent\" stroke=\"#000000\" d=\"M153,-187C153,-187 56,-187 56,-187 50,-187 44,-181 44,-175 44,-175 44,-116 44,-116 44,-110 50,-104 56,-104 56,-104 153,-104 153,-104 159,-104 165,-110 165,-116 165,-116 165,-175 165,-175 165,-181 159,-187 153,-187\"/>\n",
       "<text text-anchor=\"start\" x=\"52\" y=\"-171.8\" font-family=\"Helvetica,sans-Serif\" font-size=\"14.00\" fill=\"#000000\">petal length (cm) ≤ 3.9</text>\n",
       "<text text-anchor=\"start\" x=\"83\" y=\"-156.8\" font-family=\"Helvetica,sans-Serif\" font-size=\"14.00\" fill=\"#000000\">gini = 0.5</text>\n",
       "<text text-anchor=\"start\" x=\"76\" y=\"-141.8\" font-family=\"Helvetica,sans-Serif\" font-size=\"14.00\" fill=\"#000000\">samples = 2</text>\n",
       "<text text-anchor=\"start\" x=\"68\" y=\"-126.8\" font-family=\"Helvetica,sans-Serif\" font-size=\"14.00\" fill=\"#000000\">value = [0, 1, 1]</text>\n",
       "<text text-anchor=\"start\" x=\"64\" y=\"-111.8\" font-family=\"Helvetica,sans-Serif\" font-size=\"14.00\" fill=\"#000000\">class = versicolor</text>\n",
       "</g>\n",
       "<!-- 4&#45;&gt;5 -->\n",
       "<g id=\"edge5\" class=\"edge\">\n",
       "<title>4&#45;&gt;5</title>\n",
       "<path fill=\"none\" stroke=\"#000000\" d=\"M145.4657,-222.8796C140.936,-214.3236 136.1185,-205.2238 131.4382,-196.3833\"/>\n",
       "<polygon fill=\"#000000\" stroke=\"#000000\" points=\"134.4006,-194.4983 126.6284,-187.2981 128.2141,-197.7736 134.4006,-194.4983\"/>\n",
       "</g>\n",
       "<!-- 8 -->\n",
       "<g id=\"node9\" class=\"node\">\n",
       "<title>8</title>\n",
       "<path fill=\"#39e581\" stroke=\"#000000\" d=\"M268,-179.5C268,-179.5 195,-179.5 195,-179.5 189,-179.5 183,-173.5 183,-167.5 183,-167.5 183,-123.5 183,-123.5 183,-117.5 189,-111.5 195,-111.5 195,-111.5 268,-111.5 268,-111.5 274,-111.5 280,-117.5 280,-123.5 280,-123.5 280,-167.5 280,-167.5 280,-173.5 274,-179.5 268,-179.5\"/>\n",
       "<text text-anchor=\"start\" x=\"210\" y=\"-164.3\" font-family=\"Helvetica,sans-Serif\" font-size=\"14.00\" fill=\"#000000\">gini = 0.0</text>\n",
       "<text text-anchor=\"start\" x=\"200\" y=\"-149.3\" font-family=\"Helvetica,sans-Serif\" font-size=\"14.00\" fill=\"#000000\">samples = 38</text>\n",
       "<text text-anchor=\"start\" x=\"192.5\" y=\"-134.3\" font-family=\"Helvetica,sans-Serif\" font-size=\"14.00\" fill=\"#000000\">value = [0, 38, 0]</text>\n",
       "<text text-anchor=\"start\" x=\"191\" y=\"-119.3\" font-family=\"Helvetica,sans-Serif\" font-size=\"14.00\" fill=\"#000000\">class = versicolor</text>\n",
       "</g>\n",
       "<!-- 4&#45;&gt;8 -->\n",
       "<g id=\"edge8\" class=\"edge\">\n",
       "<title>4&#45;&gt;8</title>\n",
       "<path fill=\"none\" stroke=\"#000000\" d=\"M189.8841,-222.8796C195.798,-211.8835 202.1949,-199.9893 208.158,-188.9015\"/>\n",
       "<polygon fill=\"#000000\" stroke=\"#000000\" points=\"211.3908,-190.2799 213.0449,-179.8149 205.2258,-186.9642 211.3908,-190.2799\"/>\n",
       "</g>\n",
       "<!-- 6 -->\n",
       "<g id=\"node7\" class=\"node\">\n",
       "<title>6</title>\n",
       "<path fill=\"#39e581\" stroke=\"#000000\" d=\"M85,-68C85,-68 12,-68 12,-68 6,-68 0,-62 0,-56 0,-56 0,-12 0,-12 0,-6 6,0 12,0 12,0 85,0 85,0 91,0 97,-6 97,-12 97,-12 97,-56 97,-56 97,-62 91,-68 85,-68\"/>\n",
       "<text text-anchor=\"start\" x=\"27\" y=\"-52.8\" font-family=\"Helvetica,sans-Serif\" font-size=\"14.00\" fill=\"#000000\">gini = 0.0</text>\n",
       "<text text-anchor=\"start\" x=\"20\" y=\"-37.8\" font-family=\"Helvetica,sans-Serif\" font-size=\"14.00\" fill=\"#000000\">samples = 1</text>\n",
       "<text text-anchor=\"start\" x=\"12\" y=\"-22.8\" font-family=\"Helvetica,sans-Serif\" font-size=\"14.00\" fill=\"#000000\">value = [0, 1, 0]</text>\n",
       "<text text-anchor=\"start\" x=\"8\" y=\"-7.8\" font-family=\"Helvetica,sans-Serif\" font-size=\"14.00\" fill=\"#000000\">class = versicolor</text>\n",
       "</g>\n",
       "<!-- 5&#45;&gt;6 -->\n",
       "<g id=\"edge6\" class=\"edge\">\n",
       "<title>5&#45;&gt;6</title>\n",
       "<path fill=\"none\" stroke=\"#000000\" d=\"M83.6477,-103.9815C79.2625,-95.2504 74.6267,-86.0202 70.211,-77.2281\"/>\n",
       "<polygon fill=\"#000000\" stroke=\"#000000\" points=\"73.3246,-75.6291 65.7087,-68.2637 67.0692,-78.7708 73.3246,-75.6291\"/>\n",
       "</g>\n",
       "<!-- 7 -->\n",
       "<g id=\"node8\" class=\"node\">\n",
       "<title>7</title>\n",
       "<path fill=\"#8139e5\" stroke=\"#000000\" d=\"M194,-68C194,-68 127,-68 127,-68 121,-68 115,-62 115,-56 115,-56 115,-12 115,-12 115,-6 121,0 127,0 127,0 194,0 194,0 200,0 206,-6 206,-12 206,-12 206,-56 206,-56 206,-62 200,-68 194,-68\"/>\n",
       "<text text-anchor=\"start\" x=\"139\" y=\"-52.8\" font-family=\"Helvetica,sans-Serif\" font-size=\"14.00\" fill=\"#000000\">gini = 0.0</text>\n",
       "<text text-anchor=\"start\" x=\"132\" y=\"-37.8\" font-family=\"Helvetica,sans-Serif\" font-size=\"14.00\" fill=\"#000000\">samples = 1</text>\n",
       "<text text-anchor=\"start\" x=\"124\" y=\"-22.8\" font-family=\"Helvetica,sans-Serif\" font-size=\"14.00\" fill=\"#000000\">value = [0, 0, 1]</text>\n",
       "<text text-anchor=\"start\" x=\"123\" y=\"-7.8\" font-family=\"Helvetica,sans-Serif\" font-size=\"14.00\" fill=\"#000000\">class = virginica</text>\n",
       "</g>\n",
       "<!-- 5&#45;&gt;7 -->\n",
       "<g id=\"edge7\" class=\"edge\">\n",
       "<title>5&#45;&gt;7</title>\n",
       "<path fill=\"none\" stroke=\"#000000\" d=\"M125.3523,-103.9815C129.7375,-95.2504 134.3733,-86.0202 138.789,-77.2281\"/>\n",
       "<polygon fill=\"#000000\" stroke=\"#000000\" points=\"141.9308,-78.7708 143.2913,-68.2637 135.6754,-75.6291 141.9308,-78.7708\"/>\n",
       "</g>\n",
       "</g>\n",
       "</svg>\n"
      ],
      "text/plain": [
       "<graphviz.files.Source at 0x1a14e5ada0>"
      ]
     },
     "execution_count": 6,
     "metadata": {},
     "output_type": "execute_result"
    }
   ],
   "source": [
    "dot_data = tree.export_graphviz(clf, out_file=None,feature_names=iris.feature_names, \n",
    "                                class_names=iris.target_names, filled=True, rounded=True, \n",
    "                                special_characters=True)  \n",
    "graph = graphviz.Source(dot_data)  \n",
    "graph "
   ]
  },
  {
   "cell_type": "code",
   "execution_count": 7,
   "metadata": {},
   "outputs": [
    {
     "name": "stdout",
     "output_type": "stream",
     "text": [
      "Accuracy score: 93.33333333333333 %\n"
     ]
    }
   ],
   "source": [
    "y_pred = clf.predict(X_test)\n",
    "score = clf.score(X_test, y_test)\n",
    "\n",
    "print(\"Accuracy score:\",score*100,\"%\")"
   ]
  },
  {
   "cell_type": "markdown",
   "metadata": {},
   "source": [
    "## Max_depth Tree"
   ]
  },
  {
   "cell_type": "code",
   "execution_count": 8,
   "metadata": {},
   "outputs": [],
   "source": [
    "clf = tree.DecisionTreeClassifier(max_depth = 2)\n",
    "clf = clf.fit(X_train, y_train)\n",
    "\n",
    "dot_data = tree.export_graphviz(clf, out_file=None) \n",
    "graph = graphviz.Source(dot_data) \n",
    "#graph.render(\"iris\") "
   ]
  },
  {
   "cell_type": "code",
   "execution_count": 9,
   "metadata": {},
   "outputs": [
    {
     "data": {
      "image/svg+xml": [
       "<?xml version=\"1.0\" encoding=\"UTF-8\" standalone=\"no\"?>\n",
       "<!DOCTYPE svg PUBLIC \"-//W3C//DTD SVG 1.1//EN\"\n",
       " \"http://www.w3.org/Graphics/SVG/1.1/DTD/svg11.dtd\">\n",
       "<!-- Generated by graphviz version 2.40.1 (20161225.0304)\n",
       " -->\n",
       "<!-- Title: Tree Pages: 1 -->\n",
       "<svg width=\"286pt\" height=\"314pt\"\n",
       " viewBox=\"0.00 0.00 286.00 314.00\" xmlns=\"http://www.w3.org/2000/svg\" xmlns:xlink=\"http://www.w3.org/1999/xlink\">\n",
       "<g id=\"graph0\" class=\"graph\" transform=\"scale(1 1) rotate(0) translate(4 310)\">\n",
       "<title>Tree</title>\n",
       "<polygon fill=\"#ffffff\" stroke=\"transparent\" points=\"-4,4 -4,-310 282,-310 282,4 -4,4\"/>\n",
       "<!-- 0 -->\n",
       "<g id=\"node1\" class=\"node\">\n",
       "<title>0</title>\n",
       "<path fill=\"#39e581\" fill-opacity=\"0.070588\" stroke=\"#000000\" d=\"M158.5,-306C158.5,-306 61.5,-306 61.5,-306 55.5,-306 49.5,-300 49.5,-294 49.5,-294 49.5,-235 49.5,-235 49.5,-229 55.5,-223 61.5,-223 61.5,-223 158.5,-223 158.5,-223 164.5,-223 170.5,-229 170.5,-235 170.5,-235 170.5,-294 170.5,-294 170.5,-300 164.5,-306 158.5,-306\"/>\n",
       "<text text-anchor=\"start\" x=\"57.5\" y=\"-290.8\" font-family=\"Helvetica,sans-Serif\" font-size=\"14.00\" fill=\"#000000\">petal length (cm) ≤ 2.6</text>\n",
       "<text text-anchor=\"start\" x=\"82.5\" y=\"-275.8\" font-family=\"Helvetica,sans-Serif\" font-size=\"14.00\" fill=\"#000000\">gini = 0.664</text>\n",
       "<text text-anchor=\"start\" x=\"75.5\" y=\"-260.8\" font-family=\"Helvetica,sans-Serif\" font-size=\"14.00\" fill=\"#000000\">samples = 105</text>\n",
       "<text text-anchor=\"start\" x=\"65\" y=\"-245.8\" font-family=\"Helvetica,sans-Serif\" font-size=\"14.00\" fill=\"#000000\">value = [34, 39, 32]</text>\n",
       "<text text-anchor=\"start\" x=\"69.5\" y=\"-230.8\" font-family=\"Helvetica,sans-Serif\" font-size=\"14.00\" fill=\"#000000\">class = versicolor</text>\n",
       "</g>\n",
       "<!-- 1 -->\n",
       "<g id=\"node2\" class=\"node\">\n",
       "<title>1</title>\n",
       "<path fill=\"#e58139\" stroke=\"#000000\" d=\"M82,-179.5C82,-179.5 12,-179.5 12,-179.5 6,-179.5 0,-173.5 0,-167.5 0,-167.5 0,-123.5 0,-123.5 0,-117.5 6,-111.5 12,-111.5 12,-111.5 82,-111.5 82,-111.5 88,-111.5 94,-117.5 94,-123.5 94,-123.5 94,-167.5 94,-167.5 94,-173.5 88,-179.5 82,-179.5\"/>\n",
       "<text text-anchor=\"start\" x=\"25.5\" y=\"-164.3\" font-family=\"Helvetica,sans-Serif\" font-size=\"14.00\" fill=\"#000000\">gini = 0.0</text>\n",
       "<text text-anchor=\"start\" x=\"15.5\" y=\"-149.3\" font-family=\"Helvetica,sans-Serif\" font-size=\"14.00\" fill=\"#000000\">samples = 34</text>\n",
       "<text text-anchor=\"start\" x=\"8\" y=\"-134.3\" font-family=\"Helvetica,sans-Serif\" font-size=\"14.00\" fill=\"#000000\">value = [34, 0, 0]</text>\n",
       "<text text-anchor=\"start\" x=\"13.5\" y=\"-119.3\" font-family=\"Helvetica,sans-Serif\" font-size=\"14.00\" fill=\"#000000\">class = setosa</text>\n",
       "</g>\n",
       "<!-- 0&#45;&gt;1 -->\n",
       "<g id=\"edge1\" class=\"edge\">\n",
       "<title>0&#45;&gt;1</title>\n",
       "<path fill=\"none\" stroke=\"#000000\" d=\"M87.9657,-222.8796C82.1442,-211.8835 75.8473,-199.9893 69.9773,-188.9015\"/>\n",
       "<polygon fill=\"#000000\" stroke=\"#000000\" points=\"72.9389,-187.0152 65.1667,-179.8149 66.7524,-190.2905 72.9389,-187.0152\"/>\n",
       "<text text-anchor=\"middle\" x=\"57.8146\" y=\"-200.0094\" font-family=\"Helvetica,sans-Serif\" font-size=\"14.00\" fill=\"#000000\">True</text>\n",
       "</g>\n",
       "<!-- 2 -->\n",
       "<g id=\"node3\" class=\"node\">\n",
       "<title>2</title>\n",
       "<path fill=\"#39e581\" fill-opacity=\"0.180392\" stroke=\"#000000\" d=\"M223.5,-187C223.5,-187 124.5,-187 124.5,-187 118.5,-187 112.5,-181 112.5,-175 112.5,-175 112.5,-116 112.5,-116 112.5,-110 118.5,-104 124.5,-104 124.5,-104 223.5,-104 223.5,-104 229.5,-104 235.5,-110 235.5,-116 235.5,-116 235.5,-175 235.5,-175 235.5,-181 229.5,-187 223.5,-187\"/>\n",
       "<text text-anchor=\"start\" x=\"120.5\" y=\"-171.8\" font-family=\"Helvetica,sans-Serif\" font-size=\"14.00\" fill=\"#000000\">petal width (cm) ≤ 1.75</text>\n",
       "<text text-anchor=\"start\" x=\"146.5\" y=\"-156.8\" font-family=\"Helvetica,sans-Serif\" font-size=\"14.00\" fill=\"#000000\">gini = 0.495</text>\n",
       "<text text-anchor=\"start\" x=\"142.5\" y=\"-141.8\" font-family=\"Helvetica,sans-Serif\" font-size=\"14.00\" fill=\"#000000\">samples = 71</text>\n",
       "<text text-anchor=\"start\" x=\"132\" y=\"-126.8\" font-family=\"Helvetica,sans-Serif\" font-size=\"14.00\" fill=\"#000000\">value = [0, 39, 32]</text>\n",
       "<text text-anchor=\"start\" x=\"133.5\" y=\"-111.8\" font-family=\"Helvetica,sans-Serif\" font-size=\"14.00\" fill=\"#000000\">class = versicolor</text>\n",
       "</g>\n",
       "<!-- 0&#45;&gt;2 -->\n",
       "<g id=\"edge2\" class=\"edge\">\n",
       "<title>0&#45;&gt;2</title>\n",
       "<path fill=\"none\" stroke=\"#000000\" d=\"M132.3841,-222.8796C136.9856,-214.3236 141.8796,-205.2238 146.6342,-196.3833\"/>\n",
       "<polygon fill=\"#000000\" stroke=\"#000000\" points=\"149.8662,-197.763 151.5204,-187.2981 143.7012,-194.4473 149.8662,-197.763\"/>\n",
       "<text text-anchor=\"middle\" x=\"158.7161\" y=\"-207.5401\" font-family=\"Helvetica,sans-Serif\" font-size=\"14.00\" fill=\"#000000\">False</text>\n",
       "</g>\n",
       "<!-- 3 -->\n",
       "<g id=\"node4\" class=\"node\">\n",
       "<title>3</title>\n",
       "<path fill=\"#39e581\" fill-opacity=\"0.949020\" stroke=\"#000000\" d=\"M153.5,-68C153.5,-68 80.5,-68 80.5,-68 74.5,-68 68.5,-62 68.5,-56 68.5,-56 68.5,-12 68.5,-12 68.5,-6 74.5,0 80.5,0 80.5,0 153.5,0 153.5,0 159.5,0 165.5,-6 165.5,-12 165.5,-12 165.5,-56 165.5,-56 165.5,-62 159.5,-68 153.5,-68\"/>\n",
       "<text text-anchor=\"start\" x=\"89.5\" y=\"-52.8\" font-family=\"Helvetica,sans-Serif\" font-size=\"14.00\" fill=\"#000000\">gini = 0.093</text>\n",
       "<text text-anchor=\"start\" x=\"85.5\" y=\"-37.8\" font-family=\"Helvetica,sans-Serif\" font-size=\"14.00\" fill=\"#000000\">samples = 41</text>\n",
       "<text text-anchor=\"start\" x=\"78\" y=\"-22.8\" font-family=\"Helvetica,sans-Serif\" font-size=\"14.00\" fill=\"#000000\">value = [0, 39, 2]</text>\n",
       "<text text-anchor=\"start\" x=\"76.5\" y=\"-7.8\" font-family=\"Helvetica,sans-Serif\" font-size=\"14.00\" fill=\"#000000\">class = versicolor</text>\n",
       "</g>\n",
       "<!-- 2&#45;&gt;3 -->\n",
       "<g id=\"edge3\" class=\"edge\">\n",
       "<title>2&#45;&gt;3</title>\n",
       "<path fill=\"none\" stroke=\"#000000\" d=\"M152.7753,-103.9815C148.3119,-95.2504 143.5933,-86.0202 139.0987,-77.2281\"/>\n",
       "<polygon fill=\"#000000\" stroke=\"#000000\" points=\"142.1842,-75.5745 134.516,-68.2637 135.9514,-78.7608 142.1842,-75.5745\"/>\n",
       "</g>\n",
       "<!-- 4 -->\n",
       "<g id=\"node5\" class=\"node\">\n",
       "<title>4</title>\n",
       "<path fill=\"#8139e5\" stroke=\"#000000\" d=\"M266,-68C266,-68 196,-68 196,-68 190,-68 184,-62 184,-56 184,-56 184,-12 184,-12 184,-6 190,0 196,0 196,0 266,0 266,0 272,0 278,-6 278,-12 278,-12 278,-56 278,-56 278,-62 272,-68 266,-68\"/>\n",
       "<text text-anchor=\"start\" x=\"209.5\" y=\"-52.8\" font-family=\"Helvetica,sans-Serif\" font-size=\"14.00\" fill=\"#000000\">gini = 0.0</text>\n",
       "<text text-anchor=\"start\" x=\"199.5\" y=\"-37.8\" font-family=\"Helvetica,sans-Serif\" font-size=\"14.00\" fill=\"#000000\">samples = 30</text>\n",
       "<text text-anchor=\"start\" x=\"192\" y=\"-22.8\" font-family=\"Helvetica,sans-Serif\" font-size=\"14.00\" fill=\"#000000\">value = [0, 0, 30]</text>\n",
       "<text text-anchor=\"start\" x=\"193.5\" y=\"-7.8\" font-family=\"Helvetica,sans-Serif\" font-size=\"14.00\" fill=\"#000000\">class = virginica</text>\n",
       "</g>\n",
       "<!-- 2&#45;&gt;4 -->\n",
       "<g id=\"edge4\" class=\"edge\">\n",
       "<title>2&#45;&gt;4</title>\n",
       "<path fill=\"none\" stroke=\"#000000\" d=\"M195.2247,-103.9815C199.6881,-95.2504 204.4067,-86.0202 208.9013,-77.2281\"/>\n",
       "<polygon fill=\"#000000\" stroke=\"#000000\" points=\"212.0486,-78.7608 213.484,-68.2637 205.8158,-75.5745 212.0486,-78.7608\"/>\n",
       "</g>\n",
       "</g>\n",
       "</svg>\n"
      ],
      "text/plain": [
       "<graphviz.files.Source at 0x1a14e7f240>"
      ]
     },
     "execution_count": 9,
     "metadata": {},
     "output_type": "execute_result"
    }
   ],
   "source": [
    "dot_data = tree.export_graphviz(clf, out_file=None,feature_names=iris.feature_names, \n",
    "                                class_names=iris.target_names, filled=True, rounded=True, \n",
    "                                special_characters=True)  \n",
    "graph = graphviz.Source(dot_data)  \n",
    "graph "
   ]
  },
  {
   "cell_type": "code",
   "execution_count": 10,
   "metadata": {},
   "outputs": [
    {
     "name": "stdout",
     "output_type": "stream",
     "text": [
      "Accuracy score: 91.11111111111111 %\n"
     ]
    }
   ],
   "source": [
    "y_pred = clf.predict(X_test)\n",
    "score = clf.score(X_test, y_test)\n",
    "\n",
    "print(\"Accuracy score:\",score*100,\"%\")"
   ]
  },
  {
   "cell_type": "markdown",
   "metadata": {},
   "source": [
    "## Min_samples_split Tree"
   ]
  },
  {
   "cell_type": "code",
   "execution_count": 11,
   "metadata": {},
   "outputs": [],
   "source": [
    "clf = tree.DecisionTreeClassifier(min_samples_split = 5)\n",
    "clf = clf.fit(X_train, y_train)\n",
    "\n",
    "dot_data = tree.export_graphviz(clf, out_file=None) \n",
    "graph = graphviz.Source(dot_data) \n",
    "#graph.render(\"iris\") "
   ]
  },
  {
   "cell_type": "code",
   "execution_count": 12,
   "metadata": {},
   "outputs": [
    {
     "data": {
      "image/svg+xml": [
       "<?xml version=\"1.0\" encoding=\"UTF-8\" standalone=\"no\"?>\n",
       "<!DOCTYPE svg PUBLIC \"-//W3C//DTD SVG 1.1//EN\"\n",
       " \"http://www.w3.org/Graphics/SVG/1.1/DTD/svg11.dtd\">\n",
       "<!-- Generated by graphviz version 2.40.1 (20161225.0304)\n",
       " -->\n",
       "<!-- Title: Tree Pages: 1 -->\n",
       "<svg width=\"354pt\" height=\"552pt\"\n",
       " viewBox=\"0.00 0.00 353.50 552.00\" xmlns=\"http://www.w3.org/2000/svg\" xmlns:xlink=\"http://www.w3.org/1999/xlink\">\n",
       "<g id=\"graph0\" class=\"graph\" transform=\"scale(1 1) rotate(0) translate(4 548)\">\n",
       "<title>Tree</title>\n",
       "<polygon fill=\"#ffffff\" stroke=\"transparent\" points=\"-4,4 -4,-548 349.5,-548 349.5,4 -4,4\"/>\n",
       "<!-- 0 -->\n",
       "<g id=\"node1\" class=\"node\">\n",
       "<title>0</title>\n",
       "<path fill=\"#39e581\" fill-opacity=\"0.070588\" stroke=\"#000000\" d=\"M216,-544C216,-544 123,-544 123,-544 117,-544 111,-538 111,-532 111,-532 111,-473 111,-473 111,-467 117,-461 123,-461 123,-461 216,-461 216,-461 222,-461 228,-467 228,-473 228,-473 228,-532 228,-532 228,-538 222,-544 216,-544\"/>\n",
       "<text text-anchor=\"start\" x=\"119\" y=\"-528.8\" font-family=\"Helvetica,sans-Serif\" font-size=\"14.00\" fill=\"#000000\">petal width (cm) ≤ 0.8</text>\n",
       "<text text-anchor=\"start\" x=\"142\" y=\"-513.8\" font-family=\"Helvetica,sans-Serif\" font-size=\"14.00\" fill=\"#000000\">gini = 0.664</text>\n",
       "<text text-anchor=\"start\" x=\"135\" y=\"-498.8\" font-family=\"Helvetica,sans-Serif\" font-size=\"14.00\" fill=\"#000000\">samples = 105</text>\n",
       "<text text-anchor=\"start\" x=\"124.5\" y=\"-483.8\" font-family=\"Helvetica,sans-Serif\" font-size=\"14.00\" fill=\"#000000\">value = [34, 39, 32]</text>\n",
       "<text text-anchor=\"start\" x=\"129\" y=\"-468.8\" font-family=\"Helvetica,sans-Serif\" font-size=\"14.00\" fill=\"#000000\">class = versicolor</text>\n",
       "</g>\n",
       "<!-- 1 -->\n",
       "<g id=\"node2\" class=\"node\">\n",
       "<title>1</title>\n",
       "<path fill=\"#e58139\" stroke=\"#000000\" d=\"M141.5,-417.5C141.5,-417.5 71.5,-417.5 71.5,-417.5 65.5,-417.5 59.5,-411.5 59.5,-405.5 59.5,-405.5 59.5,-361.5 59.5,-361.5 59.5,-355.5 65.5,-349.5 71.5,-349.5 71.5,-349.5 141.5,-349.5 141.5,-349.5 147.5,-349.5 153.5,-355.5 153.5,-361.5 153.5,-361.5 153.5,-405.5 153.5,-405.5 153.5,-411.5 147.5,-417.5 141.5,-417.5\"/>\n",
       "<text text-anchor=\"start\" x=\"85\" y=\"-402.3\" font-family=\"Helvetica,sans-Serif\" font-size=\"14.00\" fill=\"#000000\">gini = 0.0</text>\n",
       "<text text-anchor=\"start\" x=\"75\" y=\"-387.3\" font-family=\"Helvetica,sans-Serif\" font-size=\"14.00\" fill=\"#000000\">samples = 34</text>\n",
       "<text text-anchor=\"start\" x=\"67.5\" y=\"-372.3\" font-family=\"Helvetica,sans-Serif\" font-size=\"14.00\" fill=\"#000000\">value = [34, 0, 0]</text>\n",
       "<text text-anchor=\"start\" x=\"73\" y=\"-357.3\" font-family=\"Helvetica,sans-Serif\" font-size=\"14.00\" fill=\"#000000\">class = setosa</text>\n",
       "</g>\n",
       "<!-- 0&#45;&gt;1 -->\n",
       "<g id=\"edge1\" class=\"edge\">\n",
       "<title>0&#45;&gt;1</title>\n",
       "<path fill=\"none\" stroke=\"#000000\" d=\"M147.4657,-460.8796C141.6442,-449.8835 135.3473,-437.9893 129.4773,-426.9015\"/>\n",
       "<polygon fill=\"#000000\" stroke=\"#000000\" points=\"132.4389,-425.0152 124.6667,-417.8149 126.2524,-428.2905 132.4389,-425.0152\"/>\n",
       "<text text-anchor=\"middle\" x=\"117.3146\" y=\"-438.0094\" font-family=\"Helvetica,sans-Serif\" font-size=\"14.00\" fill=\"#000000\">True</text>\n",
       "</g>\n",
       "<!-- 2 -->\n",
       "<g id=\"node3\" class=\"node\">\n",
       "<title>2</title>\n",
       "<path fill=\"#39e581\" fill-opacity=\"0.180392\" stroke=\"#000000\" d=\"M283,-425C283,-425 184,-425 184,-425 178,-425 172,-419 172,-413 172,-413 172,-354 172,-354 172,-348 178,-342 184,-342 184,-342 283,-342 283,-342 289,-342 295,-348 295,-354 295,-354 295,-413 295,-413 295,-419 289,-425 283,-425\"/>\n",
       "<text text-anchor=\"start\" x=\"180\" y=\"-409.8\" font-family=\"Helvetica,sans-Serif\" font-size=\"14.00\" fill=\"#000000\">petal width (cm) ≤ 1.75</text>\n",
       "<text text-anchor=\"start\" x=\"206\" y=\"-394.8\" font-family=\"Helvetica,sans-Serif\" font-size=\"14.00\" fill=\"#000000\">gini = 0.495</text>\n",
       "<text text-anchor=\"start\" x=\"202\" y=\"-379.8\" font-family=\"Helvetica,sans-Serif\" font-size=\"14.00\" fill=\"#000000\">samples = 71</text>\n",
       "<text text-anchor=\"start\" x=\"191.5\" y=\"-364.8\" font-family=\"Helvetica,sans-Serif\" font-size=\"14.00\" fill=\"#000000\">value = [0, 39, 32]</text>\n",
       "<text text-anchor=\"start\" x=\"193\" y=\"-349.8\" font-family=\"Helvetica,sans-Serif\" font-size=\"14.00\" fill=\"#000000\">class = versicolor</text>\n",
       "</g>\n",
       "<!-- 0&#45;&gt;2 -->\n",
       "<g id=\"edge2\" class=\"edge\">\n",
       "<title>0&#45;&gt;2</title>\n",
       "<path fill=\"none\" stroke=\"#000000\" d=\"M191.8841,-460.8796C196.4856,-452.3236 201.3796,-443.2238 206.1342,-434.3833\"/>\n",
       "<polygon fill=\"#000000\" stroke=\"#000000\" points=\"209.3662,-435.763 211.0204,-425.2981 203.2012,-432.4473 209.3662,-435.763\"/>\n",
       "<text text-anchor=\"middle\" x=\"218.2161\" y=\"-445.5401\" font-family=\"Helvetica,sans-Serif\" font-size=\"14.00\" fill=\"#000000\">False</text>\n",
       "</g>\n",
       "<!-- 3 -->\n",
       "<g id=\"node4\" class=\"node\">\n",
       "<title>3</title>\n",
       "<path fill=\"#39e581\" fill-opacity=\"0.949020\" stroke=\"#000000\" d=\"M221,-306C221,-306 118,-306 118,-306 112,-306 106,-300 106,-294 106,-294 106,-235 106,-235 106,-229 112,-223 118,-223 118,-223 221,-223 221,-223 227,-223 233,-229 233,-235 233,-235 233,-294 233,-294 233,-300 227,-306 221,-306\"/>\n",
       "<text text-anchor=\"start\" x=\"114\" y=\"-290.8\" font-family=\"Helvetica,sans-Serif\" font-size=\"14.00\" fill=\"#000000\">petal length (cm) ≤ 5.35</text>\n",
       "<text text-anchor=\"start\" x=\"142\" y=\"-275.8\" font-family=\"Helvetica,sans-Serif\" font-size=\"14.00\" fill=\"#000000\">gini = 0.093</text>\n",
       "<text text-anchor=\"start\" x=\"138\" y=\"-260.8\" font-family=\"Helvetica,sans-Serif\" font-size=\"14.00\" fill=\"#000000\">samples = 41</text>\n",
       "<text text-anchor=\"start\" x=\"130.5\" y=\"-245.8\" font-family=\"Helvetica,sans-Serif\" font-size=\"14.00\" fill=\"#000000\">value = [0, 39, 2]</text>\n",
       "<text text-anchor=\"start\" x=\"129\" y=\"-230.8\" font-family=\"Helvetica,sans-Serif\" font-size=\"14.00\" fill=\"#000000\">class = versicolor</text>\n",
       "</g>\n",
       "<!-- 2&#45;&gt;3 -->\n",
       "<g id=\"edge3\" class=\"edge\">\n",
       "<title>2&#45;&gt;3</title>\n",
       "<path fill=\"none\" stroke=\"#000000\" d=\"M211.1159,-341.8796C206.5144,-333.3236 201.6204,-324.2238 196.8658,-315.3833\"/>\n",
       "<polygon fill=\"#000000\" stroke=\"#000000\" points=\"199.7988,-313.4473 191.9796,-306.2981 193.6338,-316.763 199.7988,-313.4473\"/>\n",
       "</g>\n",
       "<!-- 8 -->\n",
       "<g id=\"node9\" class=\"node\">\n",
       "<title>8</title>\n",
       "<path fill=\"#8139e5\" stroke=\"#000000\" d=\"M333.5,-298.5C333.5,-298.5 263.5,-298.5 263.5,-298.5 257.5,-298.5 251.5,-292.5 251.5,-286.5 251.5,-286.5 251.5,-242.5 251.5,-242.5 251.5,-236.5 257.5,-230.5 263.5,-230.5 263.5,-230.5 333.5,-230.5 333.5,-230.5 339.5,-230.5 345.5,-236.5 345.5,-242.5 345.5,-242.5 345.5,-286.5 345.5,-286.5 345.5,-292.5 339.5,-298.5 333.5,-298.5\"/>\n",
       "<text text-anchor=\"start\" x=\"277\" y=\"-283.3\" font-family=\"Helvetica,sans-Serif\" font-size=\"14.00\" fill=\"#000000\">gini = 0.0</text>\n",
       "<text text-anchor=\"start\" x=\"267\" y=\"-268.3\" font-family=\"Helvetica,sans-Serif\" font-size=\"14.00\" fill=\"#000000\">samples = 30</text>\n",
       "<text text-anchor=\"start\" x=\"259.5\" y=\"-253.3\" font-family=\"Helvetica,sans-Serif\" font-size=\"14.00\" fill=\"#000000\">value = [0, 0, 30]</text>\n",
       "<text text-anchor=\"start\" x=\"261\" y=\"-238.3\" font-family=\"Helvetica,sans-Serif\" font-size=\"14.00\" fill=\"#000000\">class = virginica</text>\n",
       "</g>\n",
       "<!-- 2&#45;&gt;8 -->\n",
       "<g id=\"edge8\" class=\"edge\">\n",
       "<title>2&#45;&gt;8</title>\n",
       "<path fill=\"none\" stroke=\"#000000\" d=\"M256.2338,-341.8796C262.2401,-330.8835 268.737,-318.9893 274.7933,-307.9015\"/>\n",
       "<polygon fill=\"#000000\" stroke=\"#000000\" points=\"278.0345,-309.2689 279.7565,-298.8149 271.8912,-305.9133 278.0345,-309.2689\"/>\n",
       "</g>\n",
       "<!-- 4 -->\n",
       "<g id=\"node5\" class=\"node\">\n",
       "<title>4</title>\n",
       "<path fill=\"#39e581\" fill-opacity=\"0.972549\" stroke=\"#000000\" d=\"M158,-187C158,-187 53,-187 53,-187 47,-187 41,-181 41,-175 41,-175 41,-116 41,-116 41,-110 47,-104 53,-104 53,-104 158,-104 158,-104 164,-104 170,-110 170,-116 170,-116 170,-175 170,-175 170,-181 164,-187 158,-187\"/>\n",
       "<text text-anchor=\"start\" x=\"49\" y=\"-171.8\" font-family=\"Helvetica,sans-Serif\" font-size=\"14.00\" fill=\"#000000\">sepal length (cm) ≤ 4.95</text>\n",
       "<text text-anchor=\"start\" x=\"78\" y=\"-156.8\" font-family=\"Helvetica,sans-Serif\" font-size=\"14.00\" fill=\"#000000\">gini = 0.049</text>\n",
       "<text text-anchor=\"start\" x=\"74\" y=\"-141.8\" font-family=\"Helvetica,sans-Serif\" font-size=\"14.00\" fill=\"#000000\">samples = 40</text>\n",
       "<text text-anchor=\"start\" x=\"66.5\" y=\"-126.8\" font-family=\"Helvetica,sans-Serif\" font-size=\"14.00\" fill=\"#000000\">value = [0, 39, 1]</text>\n",
       "<text text-anchor=\"start\" x=\"65\" y=\"-111.8\" font-family=\"Helvetica,sans-Serif\" font-size=\"14.00\" fill=\"#000000\">class = versicolor</text>\n",
       "</g>\n",
       "<!-- 3&#45;&gt;4 -->\n",
       "<g id=\"edge4\" class=\"edge\">\n",
       "<title>3&#45;&gt;4</title>\n",
       "<path fill=\"none\" stroke=\"#000000\" d=\"M147.1159,-222.8796C142.5144,-214.3236 137.6204,-205.2238 132.8658,-196.3833\"/>\n",
       "<polygon fill=\"#000000\" stroke=\"#000000\" points=\"135.7988,-194.4473 127.9796,-187.2981 129.6338,-197.763 135.7988,-194.4473\"/>\n",
       "</g>\n",
       "<!-- 7 -->\n",
       "<g id=\"node8\" class=\"node\">\n",
       "<title>7</title>\n",
       "<path fill=\"#8139e5\" stroke=\"#000000\" d=\"M267,-179.5C267,-179.5 200,-179.5 200,-179.5 194,-179.5 188,-173.5 188,-167.5 188,-167.5 188,-123.5 188,-123.5 188,-117.5 194,-111.5 200,-111.5 200,-111.5 267,-111.5 267,-111.5 273,-111.5 279,-117.5 279,-123.5 279,-123.5 279,-167.5 279,-167.5 279,-173.5 273,-179.5 267,-179.5\"/>\n",
       "<text text-anchor=\"start\" x=\"212\" y=\"-164.3\" font-family=\"Helvetica,sans-Serif\" font-size=\"14.00\" fill=\"#000000\">gini = 0.0</text>\n",
       "<text text-anchor=\"start\" x=\"205\" y=\"-149.3\" font-family=\"Helvetica,sans-Serif\" font-size=\"14.00\" fill=\"#000000\">samples = 1</text>\n",
       "<text text-anchor=\"start\" x=\"197\" y=\"-134.3\" font-family=\"Helvetica,sans-Serif\" font-size=\"14.00\" fill=\"#000000\">value = [0, 0, 1]</text>\n",
       "<text text-anchor=\"start\" x=\"196\" y=\"-119.3\" font-family=\"Helvetica,sans-Serif\" font-size=\"14.00\" fill=\"#000000\">class = virginica</text>\n",
       "</g>\n",
       "<!-- 3&#45;&gt;7 -->\n",
       "<g id=\"edge7\" class=\"edge\">\n",
       "<title>3&#45;&gt;7</title>\n",
       "<path fill=\"none\" stroke=\"#000000\" d=\"M191.8841,-222.8796C197.798,-211.8835 204.1949,-199.9893 210.158,-188.9015\"/>\n",
       "<polygon fill=\"#000000\" stroke=\"#000000\" points=\"213.3908,-190.2799 215.0449,-179.8149 207.2258,-186.9642 213.3908,-190.2799\"/>\n",
       "</g>\n",
       "<!-- 5 -->\n",
       "<g id=\"node6\" class=\"node\">\n",
       "<title>5</title>\n",
       "<path fill=\"transparent\" stroke=\"#000000\" d=\"M85,-68C85,-68 12,-68 12,-68 6,-68 0,-62 0,-56 0,-56 0,-12 0,-12 0,-6 6,0 12,0 12,0 85,0 85,0 91,0 97,-6 97,-12 97,-12 97,-56 97,-56 97,-62 91,-68 85,-68\"/>\n",
       "<text text-anchor=\"start\" x=\"27\" y=\"-52.8\" font-family=\"Helvetica,sans-Serif\" font-size=\"14.00\" fill=\"#000000\">gini = 0.5</text>\n",
       "<text text-anchor=\"start\" x=\"20\" y=\"-37.8\" font-family=\"Helvetica,sans-Serif\" font-size=\"14.00\" fill=\"#000000\">samples = 2</text>\n",
       "<text text-anchor=\"start\" x=\"12\" y=\"-22.8\" font-family=\"Helvetica,sans-Serif\" font-size=\"14.00\" fill=\"#000000\">value = [0, 1, 1]</text>\n",
       "<text text-anchor=\"start\" x=\"8\" y=\"-7.8\" font-family=\"Helvetica,sans-Serif\" font-size=\"14.00\" fill=\"#000000\">class = versicolor</text>\n",
       "</g>\n",
       "<!-- 4&#45;&gt;5 -->\n",
       "<g id=\"edge5\" class=\"edge\">\n",
       "<title>4&#45;&gt;5</title>\n",
       "<path fill=\"none\" stroke=\"#000000\" d=\"M84.2753,-103.9815C79.8119,-95.2504 75.0933,-86.0202 70.5987,-77.2281\"/>\n",
       "<polygon fill=\"#000000\" stroke=\"#000000\" points=\"73.6842,-75.5745 66.016,-68.2637 67.4514,-78.7608 73.6842,-75.5745\"/>\n",
       "</g>\n",
       "<!-- 6 -->\n",
       "<g id=\"node7\" class=\"node\">\n",
       "<title>6</title>\n",
       "<path fill=\"#39e581\" stroke=\"#000000\" d=\"M200,-68C200,-68 127,-68 127,-68 121,-68 115,-62 115,-56 115,-56 115,-12 115,-12 115,-6 121,0 127,0 127,0 200,0 200,0 206,0 212,-6 212,-12 212,-12 212,-56 212,-56 212,-62 206,-68 200,-68\"/>\n",
       "<text text-anchor=\"start\" x=\"142\" y=\"-52.8\" font-family=\"Helvetica,sans-Serif\" font-size=\"14.00\" fill=\"#000000\">gini = 0.0</text>\n",
       "<text text-anchor=\"start\" x=\"132\" y=\"-37.8\" font-family=\"Helvetica,sans-Serif\" font-size=\"14.00\" fill=\"#000000\">samples = 38</text>\n",
       "<text text-anchor=\"start\" x=\"124.5\" y=\"-22.8\" font-family=\"Helvetica,sans-Serif\" font-size=\"14.00\" fill=\"#000000\">value = [0, 38, 0]</text>\n",
       "<text text-anchor=\"start\" x=\"123\" y=\"-7.8\" font-family=\"Helvetica,sans-Serif\" font-size=\"14.00\" fill=\"#000000\">class = versicolor</text>\n",
       "</g>\n",
       "<!-- 4&#45;&gt;6 -->\n",
       "<g id=\"edge6\" class=\"edge\">\n",
       "<title>4&#45;&gt;6</title>\n",
       "<path fill=\"none\" stroke=\"#000000\" d=\"M127.0971,-103.9815C131.6388,-95.2504 136.4402,-86.0202 141.0137,-77.2281\"/>\n",
       "<polygon fill=\"#000000\" stroke=\"#000000\" points=\"144.1669,-78.7504 145.6767,-68.2637 137.9569,-75.52 144.1669,-78.7504\"/>\n",
       "</g>\n",
       "</g>\n",
       "</svg>\n"
      ],
      "text/plain": [
       "<graphviz.files.Source at 0x1a14e7f160>"
      ]
     },
     "execution_count": 12,
     "metadata": {},
     "output_type": "execute_result"
    }
   ],
   "source": [
    "dot_data = tree.export_graphviz(clf, out_file=None,feature_names=iris.feature_names, \n",
    "                                class_names=iris.target_names, filled=True, rounded=True, \n",
    "                                special_characters=True)  \n",
    "graph = graphviz.Source(dot_data)  \n",
    "graph"
   ]
  },
  {
   "cell_type": "code",
   "execution_count": 13,
   "metadata": {},
   "outputs": [
    {
     "name": "stdout",
     "output_type": "stream",
     "text": [
      "Accuracy score: 93.33333333333333 %\n"
     ]
    }
   ],
   "source": [
    "y_pred = clf.predict(X_test)\n",
    "score = clf.score(X_test, y_test)\n",
    "\n",
    "print(\"Accuracy score:\",score*100,\"%\")"
   ]
  },
  {
   "cell_type": "markdown",
   "metadata": {},
   "source": [
    "## Varying Parameters in the Tree"
   ]
  },
  {
   "cell_type": "code",
   "execution_count": 18,
   "metadata": {},
   "outputs": [],
   "source": [
    "#for k in range(1,21,2):\n",
    "    #classifier = KNeighborsClassifier(n_neighbors=k)  \n",
    "    \n",
    "    #classifier.fit(X_train, y_train)  \n",
    "\n",
    "    #y_pred = classifier.predict(X_test)  \n",
    "\n",
    "    #print(\"Accuracy for k =\", k, \" is:\" ,metrics.accuracy_score(y_test, y_pred))"
   ]
  },
  {
   "cell_type": "code",
   "execution_count": 19,
   "metadata": {},
   "outputs": [
    {
     "data": {
      "image/png": "[encoded data removed]",
      "text/plain": [
       "<Figure size 432x288 with 2 Axes>"
      ]
     },
     "metadata": {},
     "output_type": "display_data"
    }
   ],
   "source": [
    "scoring = []\n",
    "\n",
    "for i in range (1,20):\n",
    "    for k in range (2,20):\n",
    "        clf = tree.DecisionTreeClassifier(max_depth = i, min_samples_split = k)\n",
    "        clf = clf.fit(X_train, y_train)\n",
    "        score = clf.score(X_test, y_test)\n",
    "        #print(\"Score for depth:\", i, \"and samples:\",k, \"score is:\", score * 100, \"%\")\n",
    "        \n",
    "        scoring.append(score)\n",
    "        \n",
    "#plt.imshow(scoring)\n",
    "#plt.show()\n",
    "\n",
    "scoring\n",
    "scoring = np.reshape(scoring, (19, 18))\n",
    "\n",
    "plt.imshow(scoring)\n",
    "plt.ylabel(\"Tree Depth\")\n",
    "plt.xlabel(\"Number of Samples\")\n",
    "plt.title(\"Heat Map of Best Depth and Scoring\")\n",
    "plt.colorbar()\n",
    "plt.show()\n"
   ]
  },
  {
   "cell_type": "markdown",
   "metadata": {},
   "source": [
    "## Statement of Collaboration"
   ]
  },
  {
   "cell_type": "markdown",
   "metadata": {},
   "source": [
    "https://scikit-learn.org/stable/modules/tree.html\n",
    "https://scikit-learn.org/stable/modules/generated/sklearn.tree.DecisionTreeClassifier.html\n",
    "https://docs.scipy.org/doc/numpy-1.13.0/reference/generated/numpy.reshape.html"
   ]
  }
 ],
 "metadata": {
  "kernelspec": {
   "display_name": "Python 3",
   "language": "python",
   "name": "python3"
  },
  "language_info": {
   "codemirror_mode": {
    "name": "ipython",
    "version": 3
   },
   "file_extension": ".py",
   "mimetype": "text/x-python",
   "name": "python",
   "nbconvert_exporter": "python",
   "pygments_lexer": "ipython3",
   "version": "3.6.5"
  }
 },
 "nbformat": 4,
 "nbformat_minor": 2
}
