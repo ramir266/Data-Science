{
 "cells": [
  {
   "cell_type": "markdown",
   "metadata": {},
   "source": [
    "# Naive Bayes Lab"
   ]
  },
  {
   "cell_type": "code",
   "execution_count": 1,
   "metadata": {},
   "outputs": [],
   "source": [
    "import pandas as pd"
   ]
  },
  {
   "cell_type": "code",
   "execution_count": 23,
   "metadata": {},
   "outputs": [
    {
     "data": {
      "text/html": [
       "<div>\n",
       "<style scoped>\n",
       "    .dataframe tbody tr th:only-of-type {\n",
       "        vertical-align: middle;\n",
       "    }\n",
       "\n",
       "    .dataframe tbody tr th {\n",
       "        vertical-align: top;\n",
       "    }\n",
       "\n",
       "    .dataframe thead th {\n",
       "        text-align: right;\n",
       "    }\n",
       "</style>\n",
       "<table border=\"1\" class=\"dataframe\">\n",
       "  <thead>\n",
       "    <tr style=\"text-align: right;\">\n",
       "      <th></th>\n",
       "      <th>author</th>\n",
       "      <th>long</th>\n",
       "      <th>research</th>\n",
       "      <th>grade</th>\n",
       "      <th>lottery</th>\n",
       "      <th>read</th>\n",
       "    </tr>\n",
       "  </thead>\n",
       "  <tbody>\n",
       "    <tr>\n",
       "      <th>0</th>\n",
       "      <td>0</td>\n",
       "      <td>0</td>\n",
       "      <td>1</td>\n",
       "      <td>1</td>\n",
       "      <td>0</td>\n",
       "      <td>-1</td>\n",
       "    </tr>\n",
       "    <tr>\n",
       "      <th>1</th>\n",
       "      <td>1</td>\n",
       "      <td>1</td>\n",
       "      <td>0</td>\n",
       "      <td>1</td>\n",
       "      <td>0</td>\n",
       "      <td>-1</td>\n",
       "    </tr>\n",
       "    <tr>\n",
       "      <th>2</th>\n",
       "      <td>0</td>\n",
       "      <td>1</td>\n",
       "      <td>1</td>\n",
       "      <td>1</td>\n",
       "      <td>1</td>\n",
       "      <td>-1</td>\n",
       "    </tr>\n",
       "    <tr>\n",
       "      <th>3</th>\n",
       "      <td>1</td>\n",
       "      <td>1</td>\n",
       "      <td>1</td>\n",
       "      <td>1</td>\n",
       "      <td>0</td>\n",
       "      <td>-1</td>\n",
       "    </tr>\n",
       "    <tr>\n",
       "      <th>4</th>\n",
       "      <td>0</td>\n",
       "      <td>1</td>\n",
       "      <td>0</td>\n",
       "      <td>0</td>\n",
       "      <td>0</td>\n",
       "      <td>-1</td>\n",
       "    </tr>\n",
       "    <tr>\n",
       "      <th>5</th>\n",
       "      <td>1</td>\n",
       "      <td>0</td>\n",
       "      <td>1</td>\n",
       "      <td>1</td>\n",
       "      <td>1</td>\n",
       "      <td>1</td>\n",
       "    </tr>\n",
       "    <tr>\n",
       "      <th>6</th>\n",
       "      <td>0</td>\n",
       "      <td>0</td>\n",
       "      <td>1</td>\n",
       "      <td>0</td>\n",
       "      <td>0</td>\n",
       "      <td>1</td>\n",
       "    </tr>\n",
       "    <tr>\n",
       "      <th>7</th>\n",
       "      <td>1</td>\n",
       "      <td>0</td>\n",
       "      <td>0</td>\n",
       "      <td>0</td>\n",
       "      <td>0</td>\n",
       "      <td>1</td>\n",
       "    </tr>\n",
       "    <tr>\n",
       "      <th>8</th>\n",
       "      <td>1</td>\n",
       "      <td>0</td>\n",
       "      <td>1</td>\n",
       "      <td>1</td>\n",
       "      <td>0</td>\n",
       "      <td>1</td>\n",
       "    </tr>\n",
       "    <tr>\n",
       "      <th>9</th>\n",
       "      <td>1</td>\n",
       "      <td>1</td>\n",
       "      <td>1</td>\n",
       "      <td>1</td>\n",
       "      <td>1</td>\n",
       "      <td>-1</td>\n",
       "    </tr>\n",
       "  </tbody>\n",
       "</table>\n",
       "</div>"
      ],
      "text/plain": [
       "   author  long  research  grade  lottery  read\n",
       "0       0     0         1      1        0    -1\n",
       "1       1     1         0      1        0    -1\n",
       "2       0     1         1      1        1    -1\n",
       "3       1     1         1      1        0    -1\n",
       "4       0     1         0      0        0    -1\n",
       "5       1     0         1      1        1     1\n",
       "6       0     0         1      0        0     1\n",
       "7       1     0         0      0        0     1\n",
       "8       1     0         1      1        0     1\n",
       "9       1     1         1      1        1    -1"
      ]
     },
     "execution_count": 23,
     "metadata": {},
     "output_type": "execute_result"
    }
   ],
   "source": [
    "D = [[0,0,1,1,0,-1],[1,1,0,1,0,-1],[0,1,1,1,1,-1],[1,1,1,1,0,-1],[0,1,0,0,0,-1],[1,0,1,1,1,1],[0,0,1,0,0,1],[1,0,0,0,0,1],[1,0,1,1,0,1],[1,1,1,1,1,-1]]\n",
    "df = pd.DataFrame(data=D, columns=['author','long','research','grade','lottery','read'])\n",
    "\n",
    "df "
   ]
  },
  {
   "cell_type": "markdown",
   "metadata": {},
   "source": [
    "#### Q: Compute all the probabilities necessary for a naïve Bayes classifier, i.e., the class probability p(y) and all the individual feature probabilities p(xi j y), for each class y and feature xi"
   ]
  },
  {
   "cell_type": "markdown",
   "metadata": {},
   "source": [
    "### Author"
   ]
  },
  {
   "cell_type": "markdown",
   "metadata": {},
   "source": [
    "P(Author) = 6/10\n",
    "P(No Author) = 4/10\n",
    "P(Author|Y) = 3/4\n",
    "P(No Author|Y) = 1/4\n",
    "P(Author|N) = 3/6\n",
    "P(No Author|N) = 3/6"
   ]
  },
  {
   "cell_type": "markdown",
   "metadata": {},
   "source": [
    "### Long"
   ]
  },
  {
   "cell_type": "markdown",
   "metadata": {},
   "source": [
    "P(Long) = 5/10  \n",
    "P(Not Long) = 5/10\n",
    "P(Long|Y) = 0/4\n",
    "P(Not Long|Y) = 4/4\n",
    "P(Long|N) = 5/6\n",
    "P(Not Long|N) = 1/6    "
   ]
  },
  {
   "cell_type": "markdown",
   "metadata": {},
   "source": [
    "### Research"
   ]
  },
  {
   "cell_type": "markdown",
   "metadata": {},
   "source": [
    "P(Research) = 7/10\n",
    "P(No Research) = 3/10\n",
    "P(Research|Y) = 3/4\n",
    "P(No Research|Y) = 1/4\n",
    "P(Research|N) = 4/6\n",
    "P(No Research|N) = 2/6"
   ]
  },
  {
   "cell_type": "markdown",
   "metadata": {},
   "source": [
    "### Grade"
   ]
  },
  {
   "cell_type": "markdown",
   "metadata": {},
   "source": [
    "P(Grade) = 7/10\n",
    "P(No Grade) = 3/10\n",
    "P(Grade|Y) = 2/4\n",
    "P(No Grade|Y) = 2/4\n",
    "P(Grade|N) = 5/6\n",
    "P(No Grade|N) = 1/6"
   ]
  },
  {
   "cell_type": "markdown",
   "metadata": {},
   "source": [
    "### Lottery"
   ]
  },
  {
   "cell_type": "markdown",
   "metadata": {},
   "source": [
    "P(Lottery) = 3/10 \n",
    "P(No Lottery) = 7/10 \n",
    "P(Lottery|Y) = 1/4 \n",
    "P(No Lottery|Y) = 3/4 \n",
    "P(Lottery|N) = 2/6 \n",
    "P(No Lottery|N) = 4/6 "
   ]
  },
  {
   "cell_type": "markdown",
   "metadata": {},
   "source": [
    "### Read (Yes or No)"
   ]
  },
  {
   "cell_type": "markdown",
   "metadata": {},
   "source": [
    "P(Yes) = 4/10\n",
    "P(No) = 6/10"
   ]
  },
  {
   "cell_type": "markdown",
   "metadata": {},
   "source": [
    "#### Q: Which class would be predicted for x = (0 0 0 0 0)? What about for x = (1 1 0 1 0)?"
   ]
  },
  {
   "cell_type": "markdown",
   "metadata": {},
   "source": [
    "P(no author && no long && no research && no grade && no lottery|email is read)\n",
    "P(no author|read) = 1/4 \n",
    "P(no long|read) = 4/4\n",
    "P(no research|read) = 1/4\n",
    "P(no grade|read) = 2/4\n",
    "P(no lottery|read) = 3/4\n",
    "P(Yes) = 4/10\n",
    "\n",
    "multiply all together and no need to include a denominator because it is a predication \n",
    "\n",
    "P(no author && no long && no research && no grade && no lottery|email is not read)\n",
    "P(no author|not read) = 3/6\n",
    "P(no long|not read) = 1/6 \n",
    "P(no research|not read) = 2/6\n",
    "P(no grade|not read) = 1/6\n",
    "P(no lottery|not read) = 4/6\n",
    "P(No) = 6/10\n",
    "\n",
    "multiply all together and no need to include a denominator because it is a predication \n",
    "\n",
    "P(author && long && no research && grade && no lottery|email is read)\n",
    "P(author|read) = 3/4 \n",
    "P(long|read) = 0/4\n",
    "P(no research|read) = 1/4\n",
    "P(grade|read) = 2/4\n",
    "P(no lottery|read) = 3/4\n",
    "P(Yes) = 4/10\n",
    "\n",
    "multiply all together and no need to include a denominator because it is a predication \n",
    "\n",
    "P(author && long && no research && grade && no lottery|email is not read)\n",
    "P(author|not read) = 3/6\n",
    "P(long|not read) = 5/6 \n",
    "P(no research|not read) = 2/6\n",
    "P(grade|not read) = 5/6\n",
    "P(no lottery|not read) = 4/6\n",
    "P(No) = 6/10\n",
    "\n",
    "multiply all together and no need to include a denominator because it is a predication "
   ]
  },
  {
   "cell_type": "code",
   "execution_count": 30,
   "metadata": {},
   "outputs": [
    {
     "name": "stdout",
     "output_type": "stream",
     "text": [
      "Prediction of Email is read for 0,0,0,0,0:  0.009375000000000001\n",
      "Prediction of Email is not read for 0,0,0,0,0:  0.0018518518518518517\n",
      "Prediction of Email is read for 1,1,0,1,0:  0.0\n",
      "Prediction of Email is not read:  0.0462962962962963\n"
     ]
    }
   ],
   "source": [
    "#Class predictions\n",
    "#Part 1 = \n",
    "prediction1 = (1/4)*(4/4)*(1/4)*(2/4)*(3/4)*(4/10)\n",
    "print(\"Prediction of Email is read for 0,0,0,0,0: \",prediction1)\n",
    "\n",
    "prediction2 = (3/6)*(1/6)*(2/6)*(1/6)*(4/6)*(6/10)\n",
    "print(\"Prediction of Email is not read for 0,0,0,0,0: \",prediction2)\n",
    "\n",
    "#Part 2\n",
    "prediction3 = (3/4)*(0/4)*(1/4)*(2/4)*(3/4)*(4/10)\n",
    "print(\"Prediction of Email is read for 1,1,0,1,0: \", prediction3)\n",
    "\n",
    "prediction4 = (3/6)*(5/6)*(2/6)*(5/6)*(4/6)*(6/10)\n",
    "print(\"Prediction of Email is not read: \", prediction4)"
   ]
  },
  {
   "cell_type": "markdown",
   "metadata": {},
   "source": [
    "#### Q: Compute the posterior probability that y = +1 given the observation x = (1 1 0 1 0)."
   ]
  },
  {
   "cell_type": "code",
   "execution_count": 33,
   "metadata": {},
   "outputs": [
    {
     "name": "stdout",
     "output_type": "stream",
     "text": [
      "Posterior Probability is:  0.0\n"
     ]
    }
   ],
   "source": [
    "denominator = (6/10)*(5/10)*(7/10)*(7/10)*(3/10)\n",
    "\n",
    "posteriorprob = prediction3/denominator\n",
    "\n",
    "print(\"Posterior Probability is: \", posteriorprob)"
   ]
  },
  {
   "cell_type": "markdown",
   "metadata": {},
   "source": [
    "#### Q: Why should we probably not use a “joint” Bayes classifier (using the joint probability of the features x, as opposed to a naïve Bayes classifier) for these data?"
   ]
  },
  {
   "cell_type": "markdown",
   "metadata": {},
   "source": [
    "We shoud not use a \"joint\" Bayes classifier for these data because the probability of a specific instance of a combination is not high. In addition, to find that probability of it happening you need to run through the whole data set to see the amount of occurances that instances occur. This could be computationally expensive. "
   ]
  },
  {
   "cell_type": "markdown",
   "metadata": {},
   "source": [
    "#### Q: Suppose that, before we make our predictions, we lose access to my address book, so that we cannot tell whether the email author is known. Should we re-train the model, and if so, how? (e.g.: how does the model, and its parameters, change in this new situation?) Hint: what will the naïve Bayes model over only features x2 . . . x5 look like, and what will its parameters be?"
   ]
  },
  {
   "cell_type": "markdown",
   "metadata": {},
   "source": [
    "Yes, you need to re-train the model because if you lose access to the author attributes and do not re-train the model, then you will have data where your author attribute would be zero. This can mess up your analysis because then your probability will end up being 0 when you solve for whatever you are trying to solve. You need to re-train the model without using the author variable in order to get more accurate results. "
   ]
  },
  {
   "cell_type": "markdown",
   "metadata": {},
   "source": [
    "## Extra Credit"
   ]
  },
  {
   "cell_type": "markdown",
   "metadata": {},
   "source": [
    "The Frequenist inference is based on the idea of long-term frequencies whereas the Bayesian inference is rooted from the degrees of belief and degrees of logical support. According to the frequentist definition of probability, only repeatable random events (like the result of flipping a coin) have probabilities. These probabilities are equal to the long-term frequency of occurence of the events in question. Frequentists don't attach probabilities to hypotheses or to any fixed but unknown values in general. In contrast, Bayesians view probabilities as a more general conecpt. As a Bayesian, you can use probabilities to represent the uncertainty in any event or hypothesis. An example is assigning probabilities to non-repeatable events, such as someone winning a presidential race. Orthodox frequentists would claim that such probabilities don't make sense because the event is not repeatable. In my opinion, I would side with the Bayesian theory because I believe that you can still calculate probabilities to any event or hypothesis. I do not believe that the only way you can calculate the true probability is if there is only repeatable random events.  "
   ]
  },
  {
   "cell_type": "markdown",
   "metadata": {},
   "source": [
    "## Statement of Collaboration"
   ]
  },
  {
   "cell_type": "markdown",
   "metadata": {},
   "source": [
    "https://www.probabilisticworld.com/frequentist-bayesian-approaches-inferential-statistics/\n",
    "\n",
    "I worked with Tucker, Matt, and Ryan for this lab."
   ]
  }
 ],
 "metadata": {
  "kernelspec": {
   "display_name": "Python 3",
   "language": "python",
   "name": "python3"
  },
  "language_info": {
   "codemirror_mode": {
    "name": "ipython",
    "version": 3
   },
   "file_extension": ".py",
   "mimetype": "text/x-python",
   "name": "python",
   "nbconvert_exporter": "python",
   "pygments_lexer": "ipython3",
   "version": "3.6.5"
  }
 },
 "nbformat": 4,
 "nbformat_minor": 2
}
